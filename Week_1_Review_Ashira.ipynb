{
  "nbformat": 4,
  "nbformat_minor": 0,
  "metadata": {
    "colab": {
      "provenance": [],
      "include_colab_link": true
    },
    "kernelspec": {
      "name": "python3",
      "display_name": "Python 3"
    },
    "language_info": {
      "name": "python"
    }
  },
  "cells": [
    {
      "cell_type": "markdown",
      "metadata": {
        "id": "view-in-github",
        "colab_type": "text"
      },
      "source": [
        "<a href=\"https://colab.research.google.com/github/Samar2411/Python_Paper_Airplanes/blob/main/Week_1_Review_Ashira.ipynb\" target=\"_parent\"><img src=\"https://colab.research.google.com/assets/colab-badge.svg\" alt=\"Open In Colab\"/></a>"
      ]
    },
    {
      "cell_type": "code",
      "execution_count": null,
      "metadata": {
        "id": "94zEbEGu7wUj",
        "colab": {
          "base_uri": "https://localhost:8080/"
        },
        "outputId": "14c671e6-f960-47d6-aab0-a9cd1a05eabc"
      },
      "outputs": [
        {
          "output_type": "execute_result",
          "data": {
            "text/plain": [
              "5"
            ]
          },
          "metadata": {},
          "execution_count": 8
        }
      ],
      "source": [
        "listex = [1,2,3,4,5]\n",
        "listex[0]\n",
        "listex[-1]\n",
        "#We are making a list and retriveing values with indices "
      ]
    },
    {
      "cell_type": "code",
      "source": [
        "numbers = list(range(1,11))\n",
        "\n",
        "#get a list with only the odd numbers with list comprehension\n",
        "\n"
      ],
      "metadata": {
        "id": "JkpLyZuu46Is"
      },
      "execution_count": null,
      "outputs": []
    },
    {
      "cell_type": "code",
      "source": [
        "word = 'five'\n",
        "for x in word:\n",
        "  print(x)\n"
      ],
      "metadata": {
        "id": "jxhBXHmi4Fmr"
      },
      "execution_count": null,
      "outputs": []
    },
    {
      "cell_type": "code",
      "source": [
        "fruit = ['corn', 'mango', 'apple']\n",
        "#get one string that is cornmangoapple\n"
      ],
      "metadata": {
        "id": "rNp0QSwg4ZeP"
      },
      "execution_count": null,
      "outputs": []
    },
    {
      "cell_type": "code",
      "source": [
        "countries = [['Panama', 'Mexico', 'El Salvador'], ['Qatar', 'Bahrain', 'Jordan'], ['Albania', 'Malta','Greece']]\n",
        "#Access Mexico!"
      ],
      "metadata": {
        "id": "OASfP2CI9REb"
      },
      "execution_count": null,
      "outputs": []
    },
    {
      "cell_type": "code",
      "source": [
        "names = [\"Alaa\", \"Basma\", \"Doaa\", \"Donan\", \"Malek\", \"Marooh\", \"Raghad\", \"Rahma\", \"riham\", \"samar\"]\n",
        "#Get a list of only the capital letters of the names in this list!\n"
      ],
      "metadata": {
        "id": "JyM3vEKdt_5N"
      },
      "execution_count": null,
      "outputs": []
    },
    {
      "cell_type": "code",
      "source": [
        "instructorinfo= {\"name\":\"Kevin\", \"job\":\"Scientist\", \"birthplace\":\"New York City!!!\"}\n",
        "instructorinfo[\"name\"]\n",
        "instructorinfo.keys\n",
        "\n"
      ],
      "metadata": {
        "id": "X8eAhUDRxnN_"
      },
      "execution_count": null,
      "outputs": []
    },
    {
      "cell_type": "code",
      "source": [
        "authors = dict(JKRowling = \"Harry Potter\", JRRTolkein = \"Lord of the Rings\")\n",
        "#add the keyvalue pairs of authors to instructor info"
      ],
      "metadata": {
        "colab": {
          "base_uri": "https://localhost:8080/"
        },
        "id": "C4e53f1kDzxV",
        "outputId": "8ebb4d93-095c-4a9b-f1ea-d9d92d9ac844"
      },
      "execution_count": null,
      "outputs": [
        {
          "output_type": "execute_result",
          "data": {
            "text/plain": [
              "{'name': 'Kevin',\n",
              " 'job': 'Scientist',\n",
              " 'birthplace': 'New York City!!!',\n",
              " 'JKRowling': 'Harry Potter',\n",
              " 'JRRTolkein': 'Lord of the Rings'}"
            ]
          },
          "metadata": {},
          "execution_count": 52
        }
      ]
    },
    {
      "cell_type": "code",
      "source": [
        "person = [[\"name\", \"Jared\"], [\"job\", \"Musician\"], [\"city\", \"Bern\"]]\n",
        "\n",
        "# Convert to a Dictionary!\n"
      ],
      "metadata": {
        "id": "1GeEx0-uvdkz"
      },
      "execution_count": null,
      "outputs": []
    },
    {
      "cell_type": "code",
      "source": [
        "alphanum ={}.fromkeys(\"a\",1)\n",
        "listalphanums = ((\"a\",1), (\"b\", 2), (\"c\", 3), (\"d\", 4))\n",
        "#turn listalphanums into a dictionary\n"
      ],
      "metadata": {
        "id": "dOM8K-2FFTn9"
      },
      "execution_count": null,
      "outputs": []
    },
    {
      "cell_type": "code",
      "source": [
        "dictionary1 = {2:4, 6:8, 9:10}\n",
        "# Create a dictionary2 where only the key-value pairs with even keys are present"
      ],
      "metadata": {
        "colab": {
          "base_uri": "https://localhost:8080/"
        },
        "id": "3LcKMuwaJbot",
        "outputId": "5a04da7c-bd84-4e25-b11b-5364ed306212"
      },
      "execution_count": null,
      "outputs": [
        {
          "output_type": "execute_result",
          "data": {
            "text/plain": [
              "{2: 4, 6: 8}"
            ]
          },
          "metadata": {},
          "execution_count": 56
        }
      ]
    }
  ]
}