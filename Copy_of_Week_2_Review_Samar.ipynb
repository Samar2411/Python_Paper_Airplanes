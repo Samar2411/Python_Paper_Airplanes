{
  "cells": [
    {
      "cell_type": "markdown",
      "metadata": {
        "id": "view-in-github",
        "colab_type": "text"
      },
      "source": [
        "<a href=\"https://colab.research.google.com/github/Samar2411/Python_Paper_Airplanes/blob/main/Copy_of_Week_2_Review_Samar.ipynb\" target=\"_parent\"><img src=\"https://colab.research.google.com/assets/colab-badge.svg\" alt=\"Open In Colab\"/></a>"
      ]
    },
    {
      "cell_type": "code",
      "execution_count": null,
      "metadata": {
        "id": "n8wBq4_VgJuU"
      },
      "outputs": [],
      "source": [
        "#Make a Class\n",
        "class User:\n",
        "  pass\n",
        "\n",
        "user1 = User()"
      ]
    },
    {
      "cell_type": "code",
      "execution_count": null,
      "metadata": {
        "id": "qZm0WqveNLiW"
      },
      "outputs": [],
      "source": [
        "#Slide 3 Use repr \n",
        "class Vehicle(): \n",
        "  def __init__(self,make,model,year):\n",
        "    print(\"You got a new car!\")\n",
        "    self.make = make\n",
        "    self.model = model\n",
        "    self.year = year\n",
        "  \n"
      ]
    },
    {
      "cell_type": "code",
      "execution_count": null,
      "metadata": {
        "colab": {
          "base_uri": "https://localhost:8080/"
        },
        "id": "Xt6sxWCVddg1",
        "outputId": "c1222592-9969-4330-e663-ea2676c9caec"
      },
      "outputs": [
        {
          "output_type": "stream",
          "name": "stdout",
          "text": [
            "You got a new car!\n",
            "Lexus\n",
            "<__main__.Vehicle object at 0x7f78a8c7faf0>\n"
          ]
        }
      ],
      "source": [
        "#Make an instance and call attributes\n",
        "car = Vehicle(\"Lexus\", \"SportsCar\", 2012)\n",
        "print(car.make)\n",
        "print(car)"
      ]
    },
    {
      "cell_type": "code",
      "execution_count": null,
      "metadata": {
        "id": "02RIwcKqP7xv"
      },
      "outputs": [],
      "source": [
        "#Instance functions\n",
        "class Student():\n",
        "  def __init__(self, firstname, lastname, section ):\n",
        "    self.firstname = firstname\n",
        "    self.lastname = lastname \n",
        "    self.section = section\n",
        "    \n",
        "  def intro(self):\n",
        "    return f\"{self.firstname} {self.lastname} is in {self.section} section\"\n",
        "\n",
        "  def passfail(self, status):\n",
        "    return f\"{self.firstname} {self.lastname} is {status}ing section\"\n"
      ]
    },
    {
      "cell_type": "code",
      "execution_count": null,
      "metadata": {
        "colab": {
          "base_uri": "https://localhost:8080/",
          "height": 35
        },
        "id": "QSKYJlSwRle5",
        "outputId": "f77212ba-c255-4c69-f2d4-550afab34687"
      },
      "outputs": [
        {
          "output_type": "execute_result",
          "data": {
            "text/plain": [
              "'Kevin Tang is failing section'"
            ],
            "application/vnd.google.colaboratory.intrinsic+json": {
              "type": "string"
            }
          },
          "metadata": {},
          "execution_count": 8
        }
      ],
      "source": [
        "#Use instance function\n",
        "student1 = Student('Kevin', 'Tang', 'morning')\n",
        "student1.passfail(\"fail\")"
      ]
    },
    {
      "cell_type": "code",
      "execution_count": null,
      "metadata": {
        "colab": {
          "base_uri": "https://localhost:8080/"
        },
        "id": "Sd651-isF8Ys",
        "outputId": "3196a11c-1f41-43a1-918b-a18e8fe14431"
      },
      "outputs": [
        {
          "output_type": "stream",
          "name": "stdout",
          "text": [
            "You got a new car!\n",
            "Lexus\n"
          ]
        }
      ],
      "source": [
        "class Vehicle(): \n",
        "  def __init__(self,make,model,year):\n",
        "    print(\"You got a new car!\")\n",
        "    self.make = make\n",
        "    self.model = model\n",
        "    self.year = year\n",
        "  def __repr__(self):\n",
        "    return f'{self.make}'\n",
        "car = Vehicle(\"Lexus\", \"SportsCar\", 2012)\n",
        "print(car)"
      ]
    },
    {
      "cell_type": "code",
      "execution_count": null,
      "metadata": {
        "colab": {
          "base_uri": "https://localhost:8080/"
        },
        "id": "6zhklvJ1X_T9",
        "outputId": "f4db506c-7519-4e41-e91a-ac363b7e795d"
      },
      "outputs": [
        {
          "output_type": "stream",
          "name": "stdout",
          "text": [
            "['cat', 'dog', 'bird', 'lizard', 'rodent']\n"
          ]
        }
      ],
      "source": [
        "#Create Class attributes for sorting\n",
        "class Pet():\n",
        "  allowed = ['cat', 'dog', 'bird', 'lizard', 'rodent']\n",
        "  def __init__(self, name, species):\n",
        "    self.name = name\n",
        "    self.species = species\n",
        "print(Pet.allowed)"
      ]
    },
    {
      "cell_type": "code",
      "execution_count": null,
      "metadata": {
        "colab": {
          "base_uri": "https://localhost:8080/"
        },
        "id": "PMdYoIeGYOZB",
        "outputId": "b9a13219-6b32-4933-d705-6bfb2878f071"
      },
      "outputs": [
        {
          "output_type": "stream",
          "name": "stdout",
          "text": [
            "['cat', 'dog', 'bird', 'lizard', 'rodent', 'dragon', 'dragon', 'dragon']\n"
          ]
        }
      ],
      "source": [
        "#Edit class attributes\n",
        "Pet.allowed.append(\"dragon\")\n",
        "print(Pet.allowed)"
      ]
    },
    {
      "cell_type": "code",
      "execution_count": null,
      "metadata": {
        "colab": {
          "base_uri": "https://localhost:8080/"
        },
        "id": "ncax7BT2aLh8",
        "outputId": "c81de9b1-2324-4b14-a331-3bcf3356d470"
      },
      "outputs": [
        {
          "output_type": "stream",
          "name": "stdout",
          "text": [
            "Whiskers\n"
          ]
        },
        {
          "output_type": "execute_result",
          "data": {
            "text/plain": [
              "['cat', 'dog', 'bird', 'lizard', 'rodent', 'dragon', 'dragon', 'dragon']"
            ]
          },
          "metadata": {},
          "execution_count": 17
        }
      ],
      "source": [
        "#Class Attribute is Instnace Attribute\n",
        "pet1 = Pet('Whiskers', 'Cat')\n",
        "print (pet1.name)\n",
        "Pet.allowed \n",
        "pet1.allowed"
      ]
    },
    {
      "cell_type": "code",
      "execution_count": null,
      "metadata": {
        "colab": {
          "base_uri": "https://localhost:8080/"
        },
        "id": "0jxjpXi7arDD",
        "outputId": "22079ce5-ed8f-4d07-d085-55b164e22cfb"
      },
      "outputs": [
        {
          "output_type": "stream",
          "name": "stdout",
          "text": [
            "['cat', 'dog', 'bird', 'lizard', 'rodent', 'dragon', 'dragon', 'dragon']\n",
            "['tiger']\n"
          ]
        }
      ],
      "source": [
        "#Until you make a new one\n",
        "pet1.allowed = ['tiger']\n",
        "pet1.allowed\n",
        "print (Pet.allowed)\n",
        "print (pet1.allowed)\n",
        "#now a new attribute inside the isntance not the class!"
      ]
    },
    {
      "cell_type": "code",
      "execution_count": null,
      "metadata": {
        "id": "jE3fugckbFvX"
      },
      "outputs": [],
      "source": [
        "#Class Atribute Timer\n",
        "class McDonaldschain():\n",
        "  profitablestores = 0 \n",
        "  def __init__(self, name, expenditure, income):\n",
        "    self.name = name\n",
        "    self.expenditure = expenditure\n",
        "    self.income=income\n",
        "  def profitable(self):\n",
        "    profit = self.income - self.expenditure\n",
        "    if profit > 0:\n",
        "      McDonaldschain.profitablestores +=1\n",
        "    return profit \n"
      ]
    },
    {
      "cell_type": "code",
      "execution_count": null,
      "metadata": {
        "colab": {
          "base_uri": "https://localhost:8080/"
        },
        "id": "eH5wicrG3cIR",
        "outputId": "bad81a63-db96-4b61-f1e7-8b5d65568b4e"
      },
      "outputs": [
        {
          "output_type": "stream",
          "name": "stdout",
          "text": [
            "2000\n"
          ]
        },
        {
          "output_type": "execute_result",
          "data": {
            "text/plain": [
              "1"
            ]
          },
          "metadata": {},
          "execution_count": 25
        }
      ],
      "source": [
        "franchise1 = McDonaldschain('Amman', 8000, 10000)\n",
        "print(franchise1.profitable())\n",
        "McDonaldschain.profitablestores\n",
        "#franchise1.profitablestores\n",
        "\n"
      ]
    },
    {
      "cell_type": "code",
      "execution_count": null,
      "metadata": {
        "colab": {
          "base_uri": "https://localhost:8080/"
        },
        "id": "UBKmhqmw7Mrm",
        "outputId": "59d266e3-1235-485c-dffd-3bdfd861876c"
      },
      "outputs": [
        {
          "output_type": "stream",
          "name": "stdout",
          "text": [
            " DC\n",
            "New York\n",
            "100\n"
          ]
        }
      ],
      "source": [
        "#Class Methods\n",
        "class Amtrak_Routes:\n",
        "  total_miles = 0\n",
        "  @classmethod \n",
        "  def odometer(cls):\n",
        "    return f'{Amtrak_Routes.total_miles} traveled' \n",
        "\n",
        "  @classmethod \n",
        "  def auto_fill(cls, data):\n",
        "    departure, arrival, miles = data.split(\",\")\n",
        "    miles = int(miles)\n",
        "    return cls(departure, arrival, miles)\n",
        "\n",
        "  def __init__ (self, departure, arrival, miles):\n",
        "    self.arrival = arrival\n",
        "    self.departure = departure\n",
        "    self.miles = miles \n",
        "    Amtrak_Routes.total_miles += self.miles\n",
        "      \n",
        "#Amtrak_Routes.odometer()\n",
        "new_route = Amtrak_Routes.auto_fill('New York, DC, 100')\n",
        "print(new_route.arrival)\n",
        "print(new_route.departure)\n",
        "print(new_route.miles)"
      ]
    },
    {
      "cell_type": "code",
      "execution_count": null,
      "metadata": {
        "id": "MLjIQW756Iym"
      },
      "outputs": [],
      "source": [
        "#Properties\n",
        "\n",
        "class Amtrak_Routes:\n",
        "  total_miles = 0\n",
        "  @classmethod \n",
        "  def odometer(cls):\n",
        "    return f'{Amtrak_Routes.total_miles} traveled' \n",
        "\n",
        "  @classmethod \n",
        "  def auto_fill(cls, data):\n",
        "    departure, arrival, miles = data.split(\",\")\n",
        "    miles = int(miles)\n",
        "    return cls(departure, arrival, _miles)\n",
        "\n",
        "  def __init__ (self, departure, arrival, miles):\n",
        "    self.arrival = arrival\n",
        "    self.departure = departure\n",
        "    self.miles = _miles \n",
        "    Amtrak_Routes.total_miles += self._miles\n",
        "\n",
        "  @property\n",
        "  def long(self):\n",
        "    return self._miles > 50 \n",
        "  \n",
        "  @long.setter \n",
        "  def long(self, delay):\n",
        "    if delay == \"delay\":\n",
        "      self._miles += self._miles/3"
      ]
    },
    {
      "cell_type": "code",
      "execution_count": null,
      "metadata": {
        "colab": {
          "base_uri": "https://localhost:8080/",
          "height": 53
        },
        "id": "nbasz8-3HXvN",
        "outputId": "5e6c65d8-2c19-45c4-876c-59bd2b50c209"
      },
      "outputs": [
        {
          "name": "stdout",
          "output_type": "stream",
          "text": [
            "animal does Bark\n"
          ]
        },
        {
          "data": {
            "application/vnd.google.colaboratory.intrinsic+json": {
              "type": "string"
            },
            "text/plain": [
              "'Dog'"
            ]
          },
          "execution_count": 164,
          "metadata": {},
          "output_type": "execute_result"
        }
      ],
      "source": [
        "#Basic Inheritance\n",
        "class Animal:\n",
        "  def __init__ (self, species):\n",
        "    self.species = species\n",
        "\n",
        "  def Action(self, action):\n",
        "    print(f'animal does {action}')\n",
        "\n",
        "class Dog(Animal):\n",
        "  def __init__ (self, species, breed):\n",
        "    super().__init__(species)\n",
        " \n",
        "\n",
        "Fido = Dog( 'Dog', 'Golden Retriever')\n",
        "Fido.Action('Bark')\n",
        "Fido.species"
      ]
    },
    {
      "cell_type": "code",
      "execution_count": null,
      "metadata": {
        "colab": {
          "base_uri": "https://localhost:8080/",
          "height": 53
        },
        "id": "_F067QGRRy4t",
        "outputId": "fb31db86-9097-4ff3-9845-a95cc1f78e25"
      },
      "outputs": [
        {
          "name": "stdout",
          "output_type": "stream",
          "text": [
            "animal does Bark\n"
          ]
        },
        {
          "data": {
            "application/vnd.google.colaboratory.intrinsic+json": {
              "type": "string"
            },
            "text/plain": [
              "'Dog'"
            ]
          },
          "execution_count": 166,
          "metadata": {},
          "output_type": "execute_result"
        }
      ],
      "source": [
        "#One way to initialize \n",
        "class Animal:\n",
        "  def __init__ (self, species):\n",
        "    self.species = species\n",
        "\n",
        "  def Action(self, action):\n",
        "    print(f'animal does {action}')\n",
        "\n",
        "class Dog(Animal):\n",
        "  def __init__ (self, species, breed):\n",
        "   Animal.__init__(self,species)\n",
        " \n",
        "\n",
        "Fido = Dog( 'Dog', 'Golden Retriever')\n",
        "Fido.Action('Bark')\n",
        "Fido.species"
      ]
    },
    {
      "cell_type": "code",
      "execution_count": null,
      "metadata": {
        "colab": {
          "base_uri": "https://localhost:8080/",
          "height": 53
        },
        "id": "WAOWnDfHRu8i",
        "outputId": "69fbc5b2-e860-4fe4-b18d-8b0f0f55cd0a"
      },
      "outputs": [
        {
          "name": "stdout",
          "output_type": "stream",
          "text": [
            "animal does Bark\n"
          ]
        },
        {
          "data": {
            "application/vnd.google.colaboratory.intrinsic+json": {
              "type": "string"
            },
            "text/plain": [
              "'Dog'"
            ]
          },
          "execution_count": 169,
          "metadata": {},
          "output_type": "execute_result"
        }
      ],
      "source": [
        "#Another way to initialize\n",
        "class Animal:\n",
        "  def __init__ (self, species):\n",
        "    self.species = species\n",
        "\n",
        "  def Action(self, action):\n",
        "    print(f'animal does {action}')\n",
        "\n",
        "class Dog(Animal):\n",
        "  def __init__ (self, species, breed):\n",
        "    super().__init__(species)\n",
        "    self.breed = breed\n",
        "\n",
        "Fido = Dog( 'Dog', 'Golden Retriever')\n",
        "Fido.Action('Bark')\n",
        "Fido.species"
      ]
    },
    {
      "cell_type": "code",
      "execution_count": null,
      "metadata": {
        "colab": {
          "base_uri": "https://localhost:8080/"
        },
        "id": "bPMyADpmUC8u",
        "outputId": "1fd73437-4df5-4007-f558-3ccd43f26537"
      },
      "outputs": [
        {
          "name": "stdout",
          "output_type": "stream",
          "text": [
            "Your job is civil servant\n"
          ]
        },
        {
          "data": {
            "text/plain": [
              "70000"
            ]
          },
          "execution_count": 28,
          "metadata": {},
          "output_type": "execute_result"
        }
      ],
      "source": [
        "# Multiple Inheritance\n",
        "\n",
        "class CityGov:\n",
        "  def __init__ (self, department, director, wage):\n",
        "    self.department = department\n",
        "    self.director = director\n",
        "    self.wage = wage\n",
        "  def job(self):\n",
        "    print (f'Your job is civil servant')\n",
        "\n",
        "class Union:\n",
        "  def __init__(self, chapter, representative, size, wage):\n",
        "    self.chapter = chapter\n",
        "    self.representative = representative\n",
        "    self.size = size\n",
        "    self.wage = wage\n",
        "  def job(self,job):\n",
        "    print (f'Your job is union member')\n",
        "  \n",
        "\n",
        "class Worker(CityGov, Union):\n",
        "  def __init__(self, department, director, chapter, representative, size, wage):\n",
        "    CityGov.__init__(self, department, director, wage)\n",
        "    Union.__init__(self, chapter, representative, size, wage)\n",
        "\n",
        "Tommy = Worker('Finance', 'Greg Jones', 'Local 99', 'Dock Head', 50 , 70000)\n",
        "Tommy.job()\n",
        "Tommy.pay(70000)\n",
        "Tommy.wage"
      ]
    },
    {
      "cell_type": "code",
      "execution_count": null,
      "metadata": {
        "id": "_jIvs_IRWnRY"
      },
      "outputs": [],
      "source": [
        "#MRO\n",
        "\n",
        "class A:\n",
        "\n",
        "  def A(self):\n",
        "    print(\"You are initializing A\")\n",
        "\n",
        "class B(A):\n",
        "\n",
        "  def B(self):\n",
        "    print(\"You are initializing A\")\n",
        "\n",
        "class C(A):\n",
        " \n",
        "  def C(self):\n",
        "    print(\"You are initializing A\")\n",
        "\n",
        "class D(B,C):\n",
        "  \n",
        "  def D(self):\n",
        "    print(\"You are initializing A\")\n",
        "\n",
        "print(D.__mro__)"
      ]
    },
    {
      "cell_type": "code",
      "execution_count": null,
      "metadata": {
        "id": "FARZjyI2Wo4w"
      },
      "outputs": [],
      "source": [
        "#Polymorphism Different uses\n",
        "\n",
        "class Plant:\n",
        "  def Bloom(self):\n",
        "    raise NotImplementedError\n",
        "\n",
        "class Flowers:\n",
        "  def Bloom(self):\n",
        "    print('Flowers open petals')\n",
        "\n",
        "class Trees:\n",
        "  def Bloom(self):\n",
        "    print('Trees Sprout Leaves')\n",
        "\n"
      ]
    },
    {
      "cell_type": "code",
      "execution_count": null,
      "metadata": {
        "colab": {
          "background_save": true
        },
        "id": "dqPhdhEFbHtu",
        "outputId": "3eb00464-6462-4d55-abf2-80c5ff39a854"
      },
      "outputs": [
        {
          "data": {
            "text/plain": [
              "125"
            ]
          },
          "execution_count": 30,
          "metadata": {},
          "output_type": "execute_result"
        }
      ],
      "source": [
        "#POlymorphism Similar Uses\n",
        "\n",
        "class Human:\n",
        "  def __init__(self, height):\n",
        "    self.height = height \n",
        "  def __len__ (self):\n",
        "    return self.height\n",
        "\n",
        "\n"
      ]
    }
  ],
  "metadata": {
    "colab": {
      "provenance": [],
      "include_colab_link": true
    },
    "kernelspec": {
      "display_name": "Python 3",
      "name": "python3"
    },
    "language_info": {
      "name": "python"
    }
  },
  "nbformat": 4,
  "nbformat_minor": 0
}