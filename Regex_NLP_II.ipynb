{
  "nbformat": 4,
  "nbformat_minor": 0,
  "metadata": {
    "colab": {
      "provenance": [],
      "include_colab_link": true
    },
    "kernelspec": {
      "name": "python3",
      "display_name": "Python 3"
    },
    "language_info": {
      "name": "python"
    }
  },
  "cells": [
    {
      "cell_type": "markdown",
      "metadata": {
        "id": "view-in-github",
        "colab_type": "text"
      },
      "source": [
        "<a href=\"https://colab.research.google.com/github/Samar2411/Python_Paper_Airplanes/blob/main/Regex_NLP_II.ipynb\" target=\"_parent\"><img src=\"https://colab.research.google.com/assets/colab-badge.svg\" alt=\"Open In Colab\"/></a>"
      ]
    },
    {
      "cell_type": "code",
      "execution_count": null,
      "metadata": {
        "id": "7F4IvOesWpUo"
      },
      "outputs": [],
      "source": [
        "from google.colab import files "
      ]
    },
    {
      "cell_type": "code",
      "source": [
        "#Spacy and NTLK\n",
        "import nltk \n",
        "import spacy "
      ],
      "metadata": {
        "id": "jlWUYasVZnqT",
        "colab": {
          "base_uri": "https://localhost:8080/"
        },
        "outputId": "322fedfb-8e46-466b-98c5-d270610d0a71"
      },
      "execution_count": null,
      "outputs": [
        {
          "output_type": "stream",
          "name": "stderr",
          "text": [
            "/usr/local/lib/python3.8/dist-packages/torch/cuda/__init__.py:497: UserWarning: Can't initialize NVML\n",
            "  warnings.warn(\"Can't initialize NVML\")\n"
          ]
        }
      ]
    },
    {
      "cell_type": "code",
      "source": [
        "nlp = spacy.load('en_core_web_sm')"
      ],
      "metadata": {
        "id": "w8Lcq6Xyk3CK"
      },
      "execution_count": null,
      "outputs": []
    },
    {
      "cell_type": "markdown",
      "source": [
        "#Tokenization\n",
        "\n",
        "It is one of the ways that python can try and break down text. Tokenization, broadly speaking will try to break speech into suffix, prefix and infix parts."
      ],
      "metadata": {
        "id": "Kby4LghCefCW"
      }
    },
    {
      "cell_type": "code",
      "source": [
        "#Tokenization\n",
        "tokens = nlp('')\n",
        "tokens[0]\n",
        "tokens[2-5]"
      ],
      "metadata": {
        "id": "GdVIoV4HbJDx"
      },
      "execution_count": null,
      "outputs": []
    },
    {
      "cell_type": "code",
      "source": [
        "for i in tokens:\n",
        "  print(i)"
      ],
      "metadata": {
        "id": "zJjahBk2eV4X"
      },
      "execution_count": null,
      "outputs": []
    },
    {
      "cell_type": "markdown",
      "source": [
        "#Seperating Peices"
      ],
      "metadata": {
        "id": "tsQkDEethP1y"
      }
    },
    {
      "cell_type": "code",
      "source": [
        "for i in tokens:\n",
        "  print(i.text, end = '|')"
      ],
      "metadata": {
        "id": "7qHiFrzoggno"
      },
      "execution_count": null,
      "outputs": []
    },
    {
      "cell_type": "markdown",
      "source": [
        "#Noun Chunks and Entities"
      ],
      "metadata": {
        "id": "2rX5Dp-ghSUy"
      }
    },
    {
      "cell_type": "code",
      "source": [
        "for i in tokens.ents:\n",
        "  print(i)"
      ],
      "metadata": {
        "id": "-wxPFHW_hd5U"
      },
      "execution_count": null,
      "outputs": []
    },
    {
      "cell_type": "code",
      "source": [
        "for i in tokens.noun_chunks:\n",
        "  print(i)"
      ],
      "metadata": {
        "id": "2jWUxvPthr10"
      },
      "execution_count": null,
      "outputs": []
    },
    {
      "cell_type": "markdown",
      "source": [
        "#Displacy \n",
        "\n"
      ],
      "metadata": {
        "id": "hmKL5fPThvdq"
      }
    },
    {
      "cell_type": "code",
      "source": [
        "from spacy import displacy"
      ],
      "metadata": {
        "id": "YGccp5TZhvN9"
      },
      "execution_count": null,
      "outputs": []
    },
    {
      "cell_type": "code",
      "source": [
        "doc = nlp(' I love teaching Intermediate Python')"
      ],
      "metadata": {
        "id": "VMvDnZSTiOr1"
      },
      "execution_count": null,
      "outputs": []
    },
    {
      "cell_type": "code",
      "source": [
        "displacy.render(doc, style = 'dep', jupyter = True, options = {'distance':110})"
      ],
      "metadata": {
        "colab": {
          "base_uri": "https://localhost:8080/",
          "height": 268
        },
        "id": "Dx_o3CVDiAhz",
        "outputId": "5b0c4b5c-72a3-41dd-b2d0-d38ab734c9e2"
      },
      "execution_count": null,
      "outputs": [
        {
          "output_type": "display_data",
          "data": {
            "text/plain": [
              "<IPython.core.display.HTML object>"
            ],
            "text/html": [
              "<span class=\"tex2jax_ignore\"><svg xmlns=\"http://www.w3.org/2000/svg\" xmlns:xlink=\"http://www.w3.org/1999/xlink\" xml:lang=\"en\" id=\"b747fb1aecee4803abdbb332202b089f-0\" class=\"displacy\" width=\"710\" height=\"247.0\" direction=\"ltr\" style=\"max-width: none; height: 247.0px; color: #000000; background: #ffffff; font-family: Arial; direction: ltr\">\n",
              "<text class=\"displacy-token\" fill=\"currentColor\" text-anchor=\"middle\" y=\"157.0\">\n",
              "    <tspan class=\"displacy-word\" fill=\"currentColor\" x=\"50\"> </tspan>\n",
              "    <tspan class=\"displacy-tag\" dy=\"2em\" fill=\"currentColor\" x=\"50\">SPACE</tspan>\n",
              "</text>\n",
              "\n",
              "<text class=\"displacy-token\" fill=\"currentColor\" text-anchor=\"middle\" y=\"157.0\">\n",
              "    <tspan class=\"displacy-word\" fill=\"currentColor\" x=\"160\">I</tspan>\n",
              "    <tspan class=\"displacy-tag\" dy=\"2em\" fill=\"currentColor\" x=\"160\">PRON</tspan>\n",
              "</text>\n",
              "\n",
              "<text class=\"displacy-token\" fill=\"currentColor\" text-anchor=\"middle\" y=\"157.0\">\n",
              "    <tspan class=\"displacy-word\" fill=\"currentColor\" x=\"270\">love</tspan>\n",
              "    <tspan class=\"displacy-tag\" dy=\"2em\" fill=\"currentColor\" x=\"270\">VERB</tspan>\n",
              "</text>\n",
              "\n",
              "<text class=\"displacy-token\" fill=\"currentColor\" text-anchor=\"middle\" y=\"157.0\">\n",
              "    <tspan class=\"displacy-word\" fill=\"currentColor\" x=\"380\">teaching</tspan>\n",
              "    <tspan class=\"displacy-tag\" dy=\"2em\" fill=\"currentColor\" x=\"380\">VERB</tspan>\n",
              "</text>\n",
              "\n",
              "<text class=\"displacy-token\" fill=\"currentColor\" text-anchor=\"middle\" y=\"157.0\">\n",
              "    <tspan class=\"displacy-word\" fill=\"currentColor\" x=\"490\">Intermediate</tspan>\n",
              "    <tspan class=\"displacy-tag\" dy=\"2em\" fill=\"currentColor\" x=\"490\">PROPN</tspan>\n",
              "</text>\n",
              "\n",
              "<text class=\"displacy-token\" fill=\"currentColor\" text-anchor=\"middle\" y=\"157.0\">\n",
              "    <tspan class=\"displacy-word\" fill=\"currentColor\" x=\"600\">Python</tspan>\n",
              "    <tspan class=\"displacy-tag\" dy=\"2em\" fill=\"currentColor\" x=\"600\">PROPN</tspan>\n",
              "</text>\n",
              "\n",
              "<g class=\"displacy-arrow\">\n",
              "    <path class=\"displacy-arc\" id=\"arrow-b747fb1aecee4803abdbb332202b089f-0-0\" stroke-width=\"2px\" d=\"M70,112.0 C70,2.0 270.0,2.0 270.0,112.0\" fill=\"none\" stroke=\"currentColor\"/>\n",
              "    <text dy=\"1.25em\" style=\"font-size: 0.8em; letter-spacing: 1px\">\n",
              "        <textPath xlink:href=\"#arrow-b747fb1aecee4803abdbb332202b089f-0-0\" class=\"displacy-label\" startOffset=\"50%\" side=\"left\" fill=\"currentColor\" text-anchor=\"middle\">dep</textPath>\n",
              "    </text>\n",
              "    <path class=\"displacy-arrowhead\" d=\"M70,114.0 L62,102.0 78,102.0\" fill=\"currentColor\"/>\n",
              "</g>\n",
              "\n",
              "<g class=\"displacy-arrow\">\n",
              "    <path class=\"displacy-arc\" id=\"arrow-b747fb1aecee4803abdbb332202b089f-0-1\" stroke-width=\"2px\" d=\"M180,112.0 C180,57.0 265.0,57.0 265.0,112.0\" fill=\"none\" stroke=\"currentColor\"/>\n",
              "    <text dy=\"1.25em\" style=\"font-size: 0.8em; letter-spacing: 1px\">\n",
              "        <textPath xlink:href=\"#arrow-b747fb1aecee4803abdbb332202b089f-0-1\" class=\"displacy-label\" startOffset=\"50%\" side=\"left\" fill=\"currentColor\" text-anchor=\"middle\">nsubj</textPath>\n",
              "    </text>\n",
              "    <path class=\"displacy-arrowhead\" d=\"M180,114.0 L172,102.0 188,102.0\" fill=\"currentColor\"/>\n",
              "</g>\n",
              "\n",
              "<g class=\"displacy-arrow\">\n",
              "    <path class=\"displacy-arc\" id=\"arrow-b747fb1aecee4803abdbb332202b089f-0-2\" stroke-width=\"2px\" d=\"M290,112.0 C290,57.0 375.0,57.0 375.0,112.0\" fill=\"none\" stroke=\"currentColor\"/>\n",
              "    <text dy=\"1.25em\" style=\"font-size: 0.8em; letter-spacing: 1px\">\n",
              "        <textPath xlink:href=\"#arrow-b747fb1aecee4803abdbb332202b089f-0-2\" class=\"displacy-label\" startOffset=\"50%\" side=\"left\" fill=\"currentColor\" text-anchor=\"middle\">xcomp</textPath>\n",
              "    </text>\n",
              "    <path class=\"displacy-arrowhead\" d=\"M375.0,114.0 L383.0,102.0 367.0,102.0\" fill=\"currentColor\"/>\n",
              "</g>\n",
              "\n",
              "<g class=\"displacy-arrow\">\n",
              "    <path class=\"displacy-arc\" id=\"arrow-b747fb1aecee4803abdbb332202b089f-0-3\" stroke-width=\"2px\" d=\"M510,112.0 C510,57.0 595.0,57.0 595.0,112.0\" fill=\"none\" stroke=\"currentColor\"/>\n",
              "    <text dy=\"1.25em\" style=\"font-size: 0.8em; letter-spacing: 1px\">\n",
              "        <textPath xlink:href=\"#arrow-b747fb1aecee4803abdbb332202b089f-0-3\" class=\"displacy-label\" startOffset=\"50%\" side=\"left\" fill=\"currentColor\" text-anchor=\"middle\">compound</textPath>\n",
              "    </text>\n",
              "    <path class=\"displacy-arrowhead\" d=\"M510,114.0 L502,102.0 518,102.0\" fill=\"currentColor\"/>\n",
              "</g>\n",
              "\n",
              "<g class=\"displacy-arrow\">\n",
              "    <path class=\"displacy-arc\" id=\"arrow-b747fb1aecee4803abdbb332202b089f-0-4\" stroke-width=\"2px\" d=\"M400,112.0 C400,2.0 600.0,2.0 600.0,112.0\" fill=\"none\" stroke=\"currentColor\"/>\n",
              "    <text dy=\"1.25em\" style=\"font-size: 0.8em; letter-spacing: 1px\">\n",
              "        <textPath xlink:href=\"#arrow-b747fb1aecee4803abdbb332202b089f-0-4\" class=\"displacy-label\" startOffset=\"50%\" side=\"left\" fill=\"currentColor\" text-anchor=\"middle\">dobj</textPath>\n",
              "    </text>\n",
              "    <path class=\"displacy-arrowhead\" d=\"M600.0,114.0 L608.0,102.0 592.0,102.0\" fill=\"currentColor\"/>\n",
              "</g>\n",
              "</svg></span>"
            ]
          },
          "metadata": {}
        }
      ]
    },
    {
      "cell_type": "markdown",
      "source": [
        "# Stemming\n",
        "\n",
        "Often times, nouns have plurals and verb forms.\n",
        "\n",
        "Examples include teach, teacher, teaching, which come from a stem \"teach\"."
      ],
      "metadata": {
        "id": "SnS3pJ8jkljV"
      }
    },
    {
      "cell_type": "code",
      "source": [
        "#Stemming\n",
        "from nltk.stem.snowball import SnowballStemmer\n",
        "Snowball_Stemmer = SnowballStemmer(language = 'english')"
      ],
      "metadata": {
        "id": "7MWSue-FbKQs"
      },
      "execution_count": null,
      "outputs": []
    },
    {
      "cell_type": "code",
      "source": [
        "words = ['teacher', 'teaches', 'teaching']\n",
        "for word in words:\n",
        "  print(word + '|' + Snowball_Stemmer.stem(word))"
      ],
      "metadata": {
        "colab": {
          "base_uri": "https://localhost:8080/"
        },
        "id": "sUvTxnjQlp3Y",
        "outputId": "cdb408c4-364c-4e26-8529-792dbc2eed32"
      },
      "execution_count": null,
      "outputs": [
        {
          "output_type": "stream",
          "name": "stdout",
          "text": [
            "teacher|teacher\n",
            "teaches|teach\n",
            "teaching|teach\n"
          ]
        }
      ]
    },
    {
      "cell_type": "code",
      "source": [
        "#Lematization \n",
        "for word in doc:\n",
        "  print(word.lemma_)"
      ],
      "metadata": {
        "id": "OoI7taCSbNhT",
        "colab": {
          "base_uri": "https://localhost:8080/"
        },
        "outputId": "8d35aef0-0f75-4176-c19f-67271545e056"
      },
      "execution_count": null,
      "outputs": [
        {
          "output_type": "stream",
          "name": "stdout",
          "text": [
            " \n",
            "I\n",
            "love\n",
            "teach\n",
            "Intermediate\n",
            "Python\n"
          ]
        }
      ]
    },
    {
      "cell_type": "code",
      "source": [
        "#Stop Words"
      ],
      "metadata": {
        "id": "qSpe49HwbOi-"
      },
      "execution_count": null,
      "outputs": []
    },
    {
      "cell_type": "code",
      "source": [
        "#Part of Speech Tagging\n",
        "print(doc[4].pos_)"
      ],
      "metadata": {
        "id": "wBYKDH6yb-Rq",
        "colab": {
          "base_uri": "https://localhost:8080/"
        },
        "outputId": "f67678d7-ce6f-4b6d-a1c1-fd58b02b4437"
      },
      "execution_count": null,
      "outputs": [
        {
          "output_type": "stream",
          "name": "stdout",
          "text": [
            "PROPN\n"
          ]
        }
      ]
    },
    {
      "cell_type": "code",
      "source": [
        "#Creatig new patterns\n",
        "from spacy.matcher import Matcher\n",
        "matcher = Matcher(nlp.vocab)"
      ],
      "metadata": {
        "id": "_JK_LW83bTxD"
      },
      "execution_count": null,
      "outputs": []
    },
    {
      "cell_type": "code",
      "source": [
        "pattern1 = [{'LOWER':'solarpower'}]\n",
        "pattern2 = [{'LOWER':'solar'}, {'IS_PUNCT': True }, {'LOWER':'power'}]\n",
        "pattern3 = [{'LOWER':'solar'}, {'LOWER':'power'}]"
      ],
      "metadata": {
        "id": "d0X5SW3HxChP"
      },
      "execution_count": null,
      "outputs": []
    },
    {
      "cell_type": "code",
      "source": [
        "matcher.add('SolarPower',[pattern1, pattern2, pattern3])"
      ],
      "metadata": {
        "id": "o6x6l0V8xJz7"
      },
      "execution_count": null,
      "outputs": []
    },
    {
      "cell_type": "code",
      "source": [
        "doc = nlp('The Solar Power Industry is a result of growth in solar power technology')\n",
        "found_matches = matcher(doc)\n",
        "print(found_matches)"
      ],
      "metadata": {
        "colab": {
          "base_uri": "https://localhost:8080/"
        },
        "id": "NSe0MHDJfBAl",
        "outputId": "c32311f1-c76c-4530-f927-3d9c24393fc4"
      },
      "execution_count": null,
      "outputs": [
        {
          "output_type": "stream",
          "name": "stdout",
          "text": [
            "[(8656102463236116519, 1, 3), (8656102463236116519, 10, 12)]\n"
          ]
        }
      ]
    },
    {
      "cell_type": "code",
      "source": [
        "for match_id, start, end in found_matches:\n",
        "  string_id = nlp.vocab.strings[match_id]\n",
        "  span = doc[start:end]\n",
        "  print(match_id, string_id, start, end, span.text)"
      ],
      "metadata": {
        "colab": {
          "base_uri": "https://localhost:8080/"
        },
        "id": "EQMd5MSRS7tm",
        "outputId": "0b9f793e-8fa9-4fee-ce34-f6021b70f324"
      },
      "execution_count": null,
      "outputs": [
        {
          "output_type": "stream",
          "name": "stdout",
          "text": [
            "8656102463236116519 SolarPower 1 3 Solar Power\n",
            "8656102463236116519 SolarPower 10 12 solar power\n"
          ]
        }
      ]
    },
    {
      "cell_type": "code",
      "source": [
        "#Phrase Matching\n",
        "doc1 = nlp(\"Our company created a brand new vacuum cleaner\")\n",
        "for ents in doc1_ents:\n",
        "  print(ents.text)"
      ],
      "metadata": {
        "id": "G4prfLHob_34"
      },
      "execution_count": null,
      "outputs": []
    },
    {
      "cell_type": "code",
      "source": [
        "Phrase Matching\n",
        "from spacy.matcher import PhraseMatcher\n",
        "matcher = PhraseMatcher(nlp.vocab)\n",
        "phrase_list =['vacuum cleaner','vacuum-cleaner']\n",
        "phrase_patterns = [nlp(text) for text in phrase_list] \n",
        "matcher.add('newproduct', None, *phrase_patterns)\n",
        "found_matches = matcher(doc1)\n",
        "found_matches"
      ],
      "metadata": {
        "colab": {
          "base_uri": "https://localhost:8080/"
        },
        "id": "tiMlbkDsWVNJ",
        "outputId": "278bbb46-f350-4c1f-8813-25abe146fde7"
      },
      "execution_count": null,
      "outputs": [
        {
          "output_type": "execute_result",
          "data": {
            "text/plain": [
              "[(2689272359382549672, 6, 8)]"
            ]
          },
          "metadata": {},
          "execution_count": 28
        }
      ]
    },
    {
      "cell_type": "code",
      "source": [
        "for match_id, start, end in found_matches:\n",
        "  string_id = nlp.vocab.strings[match_id]\n",
        "  span = doc1[start:end]\n",
        "  print(match_id, string_id, start, end, span.text)"
      ],
      "metadata": {
        "colab": {
          "base_uri": "https://localhost:8080/"
        },
        "id": "7zzrnX29nnfz",
        "outputId": "408f111b-29b0-44b9-ee8c-50da19bd4fcd"
      },
      "execution_count": null,
      "outputs": [
        {
          "output_type": "stream",
          "name": "stdout",
          "text": [
            "2689272359382549672 newproduct 6 8 vacuum cleaner\n"
          ]
        }
      ]
    },
    {
      "cell_type": "code",
      "source": [
        "#Create new entities\n",
        "from spacy.tokens import Span\n"
      ],
      "metadata": {
        "id": "6nDMNdYuaXBY"
      },
      "execution_count": null,
      "outputs": []
    },
    {
      "cell_type": "code",
      "source": [
        "PROD = doc1.vocab.strings[u\"PRODUCT\"]\n",
        "new_ents = [Span(doc1, match[1], match[2], label = PROD) for match in found_matches]\n",
        "doc1_ents = list(doc1.ents) + new_ents\n",
        "for ents in doc1_ents:\n",
        "  print(ents.text)"
      ],
      "metadata": {
        "colab": {
          "base_uri": "https://localhost:8080/"
        },
        "id": "w3gUi2JYsL-8",
        "outputId": "e6983d1e-6bf8-469e-c1fa-2d0a52f1d550"
      },
      "execution_count": null,
      "outputs": [
        {
          "output_type": "stream",
          "name": "stdout",
          "text": [
            "vacuum cleaner\n"
          ]
        }
      ]
    }
  ]
}