{
  "nbformat": 4,
  "nbformat_minor": 0,
  "metadata": {
    "colab": {
      "provenance": [],
      "collapsed_sections": [
        "Ue4smV2Uk-ry",
        "TD3lh1jBYIuk",
        "M4Q6GuQOc4Zh",
        "uHXbfGOHyWpa",
        "zxWTccGmykSx",
        "WWne36fq3Sa7"
      ],
      "include_colab_link": true
    },
    "kernelspec": {
      "name": "python3",
      "display_name": "Python 3"
    },
    "language_info": {
      "name": "python"
    }
  },
  "cells": [
    {
      "cell_type": "markdown",
      "metadata": {
        "id": "view-in-github",
        "colab_type": "text"
      },
      "source": [
        "<a href=\"https://colab.research.google.com/github/Samar2411/Python_Paper_Airplanes/blob/main/Week_4_Kevin_Tang.ipynb\" target=\"_parent\"><img src=\"https://colab.research.google.com/assets/colab-badge.svg\" alt=\"Open In Colab\"/></a>"
      ]
    },
    {
      "cell_type": "markdown",
      "metadata": {
        "id": "voKR2-ff8O5a"
      },
      "source": [
        "# Lession 4\n",
        "\n",
        "**Numpy and Pandas Part 1**\n",
        "\n",
        "Lesson Goals:\n",
        "- Learn to manipulate Numpy Arrays:\n",
        "  \n",
        "            A. Create an Array\n",
        "            B. Index an Array\n",
        "            C. Operations on an Array\n",
        "\n"
      ]
    },
    {
      "cell_type": "markdown",
      "metadata": {
        "id": "Ue4smV2Uk-ry"
      },
      "source": [
        "# Numpy and Pandas Part 1"
      ]
    },
    {
      "cell_type": "markdown",
      "metadata": {
        "id": "hirkhTLDmCL6"
      },
      "source": [
        "Numpy and Pandas are some of the most critical packages in Python for Data Science. The numpy array structure is ubiquitous and if you want to do data science in the future, you will probably encounter it at some point. \n",
        "\n",
        "So why do we use it?\n",
        "\n",
        "1. Everyone else is using it!\n",
        "2. It supports advanced mathematics.\n",
        "2. It supports many methods that make it easy to do statistics and analyze data."
      ]
    },
    {
      "cell_type": "markdown",
      "source": [
        "As a reminder to import a library, you use the syntax import Library as alias.\n",
        "\n",
        "To call methods from the library, you usse the alias_name.method"
      ],
      "metadata": {
        "id": "hXrC734o0HvS"
      }
    },
    {
      "cell_type": "code",
      "source": [
        "import numpy as np"
      ],
      "metadata": {
        "id": "8xBjCRU10Kc8"
      },
      "execution_count": null,
      "outputs": []
    },
    {
      "cell_type": "markdown",
      "metadata": {
        "id": "hRlzztpXTMEh"
      },
      "source": []
    },
    {
      "cell_type": "markdown",
      "metadata": {
        "id": "8i-wTEAua-Zj"
      },
      "source": [
        "Coding time!"
      ]
    },
    {
      "cell_type": "markdown",
      "metadata": {
        "id": "m_eO4rmfbs-p"
      },
      "source": [
        "#Creating an Array!\n",
        "The most important numpy data structure is the numpy array. It is an indexed structure containing data. \n",
        "\n",
        "There are multiple ways to create a numpy array but many revolve around converting a list to an array! If you already have a list declared, you can convert it with the syntax np.array.\n",
        "\n",
        "You can also put in a list of data into the np.array()."
      ]
    },
    {
      "cell_type": "code",
      "metadata": {
        "id": "Ef11yvTRlFaB",
        "colab": {
          "base_uri": "https://localhost:8080/"
        },
        "outputId": "2cc424b5-be0b-4769-f096-a5823c884d29"
      },
      "source": [
        "array = np.array((1,2,3,4,5))\n",
        "print(array)\n",
        "list1 = [1,2,3,4,5]\n",
        "array1 = np.array(list1)\n",
        "print(array1)"
      ],
      "execution_count": null,
      "outputs": [
        {
          "output_type": "stream",
          "name": "stdout",
          "text": [
            "[1 2 3 4 5]\n",
            "[1 2 3 4 5]\n"
          ]
        }
      ]
    },
    {
      "cell_type": "markdown",
      "source": [
        "#2-D Array\n",
        "If you put in a list of a list inside the np.array, you will get a matrix! \n",
        "\n",
        "This is not a mathematics class but basically a matrix is a 2-dimensional structure where the data is organized into a structure that has rows and columns."
      ],
      "metadata": {
        "id": "BhyQTMZYEZL8"
      }
    },
    {
      "cell_type": "code",
      "source": [
        "list_of_list = [[1,2,3],[4,5,6]]\n",
        "matrix = np.array(list_of_list)\n",
        "matrix"
      ],
      "metadata": {
        "id": "2ZKmJAqUEYdk",
        "colab": {
          "base_uri": "https://localhost:8080/"
        },
        "outputId": "b80aa9ca-8850-44a7-a5f8-4afda7e195cc"
      },
      "execution_count": null,
      "outputs": [
        {
          "output_type": "execute_result",
          "data": {
            "text/plain": [
              "array([[1, 2, 3],\n",
              "       [4, 5, 6]])"
            ]
          },
          "metadata": {},
          "execution_count": 6
        }
      ]
    },
    {
      "cell_type": "markdown",
      "source": [
        "# More Methods of Creating Lists \n",
        "Numpy also has many methods to create lists with preset values. We are only going to go through a few of them\n",
        "\n",
        "To create a list from a list of numbers, use np.arange(). You can also create an incremental list by adding a third argument. \n",
        "\n",
        "np.linspace creates an array with a range but the third argument gives the number of evenly divided points in the range.\n",
        "\n",
        "You can also create arrays or matrices of just zeroes and ones with np.zeroes and np.ones. If you want to create a matrix, the first argument is the rows and the second is the columns.\n",
        "\n",
        "You can also generate random numbers by np.random.rand. The third argument is the number of random numbers. You can also add in the range as arguments and only get integers with np.random.randint"
      ],
      "metadata": {
        "id": "K6QFUdjHE1n9"
      }
    },
    {
      "cell_type": "code",
      "source": [
        "array = np.arange(0,11)\n",
        "print(array)\n",
        "array1 = np.arange(0,10,2)\n",
        "print(array1)\n",
        "linspace = np.linspace(0,11,10)\n",
        "print(linspace)\n",
        "zeroes = np.zeros((2,3))\n",
        "print(zeroes)\n",
        "ones = np.ones((10,25))\n",
        "print(ones)\n",
        "random = np.random.rand(5)\n",
        "print(random)\n",
        "rand_int = np.random.randint(0,10,5)\n",
        "print(rand_int)"
      ],
      "metadata": {
        "id": "3PLpSN6nE1NT",
        "colab": {
          "base_uri": "https://localhost:8080/"
        },
        "outputId": "7e799105-5d27-4754-9609-6a290e7ab49d"
      },
      "execution_count": null,
      "outputs": [
        {
          "output_type": "stream",
          "name": "stdout",
          "text": [
            "[ 0  1  2  3  4  5  6  7  8  9 10]\n",
            "[0 2 4 6 8]\n",
            "[ 0.          1.22222222  2.44444444  3.66666667  4.88888889  6.11111111\n",
            "  7.33333333  8.55555556  9.77777778 11.        ]\n",
            "[[0. 0. 0.]\n",
            " [0. 0. 0.]]\n",
            "[[1. 1. 1. 1. 1. 1. 1. 1. 1. 1. 1. 1. 1. 1. 1. 1. 1. 1. 1. 1. 1. 1. 1. 1.\n",
            "  1.]\n",
            " [1. 1. 1. 1. 1. 1. 1. 1. 1. 1. 1. 1. 1. 1. 1. 1. 1. 1. 1. 1. 1. 1. 1. 1.\n",
            "  1.]\n",
            " [1. 1. 1. 1. 1. 1. 1. 1. 1. 1. 1. 1. 1. 1. 1. 1. 1. 1. 1. 1. 1. 1. 1. 1.\n",
            "  1.]\n",
            " [1. 1. 1. 1. 1. 1. 1. 1. 1. 1. 1. 1. 1. 1. 1. 1. 1. 1. 1. 1. 1. 1. 1. 1.\n",
            "  1.]\n",
            " [1. 1. 1. 1. 1. 1. 1. 1. 1. 1. 1. 1. 1. 1. 1. 1. 1. 1. 1. 1. 1. 1. 1. 1.\n",
            "  1.]\n",
            " [1. 1. 1. 1. 1. 1. 1. 1. 1. 1. 1. 1. 1. 1. 1. 1. 1. 1. 1. 1. 1. 1. 1. 1.\n",
            "  1.]\n",
            " [1. 1. 1. 1. 1. 1. 1. 1. 1. 1. 1. 1. 1. 1. 1. 1. 1. 1. 1. 1. 1. 1. 1. 1.\n",
            "  1.]\n",
            " [1. 1. 1. 1. 1. 1. 1. 1. 1. 1. 1. 1. 1. 1. 1. 1. 1. 1. 1. 1. 1. 1. 1. 1.\n",
            "  1.]\n",
            " [1. 1. 1. 1. 1. 1. 1. 1. 1. 1. 1. 1. 1. 1. 1. 1. 1. 1. 1. 1. 1. 1. 1. 1.\n",
            "  1.]\n",
            " [1. 1. 1. 1. 1. 1. 1. 1. 1. 1. 1. 1. 1. 1. 1. 1. 1. 1. 1. 1. 1. 1. 1. 1.\n",
            "  1.]]\n",
            "[0.53634174 0.42729177 0.63665226 0.62023049 0.87227961]\n",
            "[0 3 5 4 5]\n"
          ]
        }
      ]
    },
    {
      "cell_type": "markdown",
      "metadata": {
        "id": "pVqsc2VjcK-f"
      },
      "source": [
        "#Accessing Array Attributes:\n",
        "\n",
        "You can access information about the arrays through built in methods.\n",
        "They include size, np.size, dimensions, np.ndim and shape, np.shape. \n",
        "\n",
        "Size refers to number of datapoints.\n",
        "\n",
        "Dimensions refers to whether it is 1,2 or 3-D.\n",
        "\n",
        "Shape is rows by columns.\n",
        "\n",
        "On this note, np.reshape methods allow us to reshape an array to specified dimensions."
      ]
    },
    {
      "cell_type": "code",
      "metadata": {
        "id": "QJ47kCUmchdu",
        "colab": {
          "base_uri": "https://localhost:8080/"
        },
        "outputId": "e1bc30c6-1589-4413-ff50-a6e92ce2a5ba"
      },
      "source": [
        "array_ex = np.arange(1,11)\n",
        "print(array_ex)\n",
        "array_ex = array_ex.reshape (2,5)\n",
        "print(array_ex)\n",
        "\n",
        "\n",
        "print(array_ex.size)\n",
        "print(array_ex.ndim)\n",
        "print(array_ex.shape)"
      ],
      "execution_count": null,
      "outputs": [
        {
          "output_type": "stream",
          "name": "stdout",
          "text": [
            "[ 1  2  3  4  5  6  7  8  9 10]\n",
            "[[ 1  2  3  4  5]\n",
            " [ 6  7  8  9 10]]\n",
            "10\n",
            "2\n",
            "(2, 5)\n"
          ]
        }
      ]
    },
    {
      "cell_type": "markdown",
      "metadata": {
        "id": "aRK9QGmVYRCn"
      },
      "source": [
        "#Indexing Arrays \n",
        "Like a list/dictionary, numpy arrays can be indexed to access values. \n",
        "\n",
        "You can obtain data in some ways like you would a list. array[0:6] accesses the first seven values. array[5:] access the fifth value onward.\n",
        "\n",
        "You can reassign the first 5 values with array[0:5] = 26.\n",
        "\n",
        "array[:] access all values.\n",
        "\n",
        "You can return the reverse version of an array with the syntax: arrray[::-1] \n",
        "\n",
        "\n"
      ]
    },
    {
      "cell_type": "code",
      "source": [
        "array = np.arange(1,12)\n",
        "print(array)\n",
        "print(array[0:6])\n",
        "print(array[5:])\n",
        "print(array[:])\n",
        "print(array[::-1])"
      ],
      "metadata": {
        "id": "7Yk8CZJ-6rdg",
        "colab": {
          "base_uri": "https://localhost:8080/"
        },
        "outputId": "fab1c859-a546-4a01-de10-03824bdfaab8"
      },
      "execution_count": null,
      "outputs": [
        {
          "output_type": "stream",
          "name": "stdout",
          "text": [
            "[ 1  2  3  4  5  6  7  8  9 10 11]\n",
            "[1 2 3 4 5 6]\n",
            "[ 6  7  8  9 10 11]\n",
            "[ 1  2  3  4  5  6  7  8  9 10 11]\n",
            "[11 10  9  8  7  6  5  4  3  2  1]\n"
          ]
        }
      ]
    },
    {
      "cell_type": "markdown",
      "source": [
        "For 2-d arrays, The syntax is array[row] [column]. You can also do array[row,column]\n",
        "\n",
        "We can also grab larger slices. The syntax to grab all of the first fifth rows and the first 2 columns is array[:5,:1].\n",
        "\n",
        "But there is more advanced syntax available. array[:2] means the first two rows. array[:,0] means everything in column 0.\n",
        "\n",
        "In a 2-d array, you can get a certain \"block\" of the array with the syntax array[0:2, 0:2] which gets an array that is the top left 2 values.\n",
        "\n",
        "To do reverse index on the 2-d array, use array[::-1, ::-1] for reverse rows and columns.\n"
      ],
      "metadata": {
        "id": "yvHP73BA6eGQ"
      }
    },
    {
      "cell_type": "code",
      "metadata": {
        "id": "caTj7JSpcnZ_",
        "colab": {
          "base_uri": "https://localhost:8080/"
        },
        "outputId": "8969a574-8360-4b0a-e0e7-0be093cad89a"
      },
      "source": [
        "list1 = np.random.randint(0,100,20)\n",
        "array = np.array(list1)\n",
        "array = array.reshape(5,4)\n",
        "print(array)\n",
        "print(array[3][3])\n",
        "print(array[3,3])\n",
        "print(array[:,3])\n",
        "print(array[1:3, 0:2])\n",
        "print(array[:4,:1])\n",
        "print(array[::-1, ::-1])"
      ],
      "execution_count": null,
      "outputs": [
        {
          "output_type": "stream",
          "name": "stdout",
          "text": [
            "[[96 75 22 99]\n",
            " [72  8 72 56]\n",
            " [27  2 63 96]\n",
            " [95 16 29 36]\n",
            " [95 46 32 28]]\n",
            "36\n",
            "36\n",
            "[99 56 96 36 28]\n",
            "[[72  8]\n",
            " [27  2]]\n",
            "[[96]\n",
            " [72]\n",
            " [27]\n",
            " [95]]\n",
            "[[28 32 46 95]\n",
            " [36 29 16 95]\n",
            " [96 63  2 27]\n",
            " [56 72  8 72]\n",
            " [99 22 75 96]]\n"
          ]
        }
      ]
    },
    {
      "cell_type": "markdown",
      "source": [
        "You can also use boolean logic to get out all values that meet a condition with the syntax array[array>x] for all numbers greater than x. \n",
        "\n",
        "\n"
      ],
      "metadata": {
        "id": "BVeufO5v6mna"
      }
    },
    {
      "cell_type": "code",
      "source": [
        "array = np.arange(1,100,5)\n",
        "print(array)\n",
        "array[array>20]"
      ],
      "metadata": {
        "id": "jzV9FnOK6lHr",
        "colab": {
          "base_uri": "https://localhost:8080/"
        },
        "outputId": "529a7e51-9cf0-4506-9b99-8efeacb95d9a"
      },
      "execution_count": null,
      "outputs": [
        {
          "output_type": "stream",
          "name": "stdout",
          "text": [
            "[ 1  6 11 16 21 26 31 36 41 46 51 56 61 66 71 76 81 86 91 96]\n"
          ]
        },
        {
          "output_type": "execute_result",
          "data": {
            "text/plain": [
              "array([21, 26, 31, 36, 41, 46, 51, 56, 61, 66, 71, 76, 81, 86, 91, 96])"
            ]
          },
          "metadata": {},
          "execution_count": 22
        }
      ]
    },
    {
      "cell_type": "markdown",
      "source": [
        "For 2-d arrays, You can get even more specific and look for all numbers in a row greater than 5 for example. array[1][array[1]>5]. "
      ],
      "metadata": {
        "id": "2h4Ix0OvA-oK"
      }
    },
    {
      "cell_type": "code",
      "source": [
        "array = np.random.randint(0,100,20)\n",
        "array = array.reshape(4,5)\n",
        "print(array)\n",
        "array[1][array[1]>5]"
      ],
      "metadata": {
        "colab": {
          "base_uri": "https://localhost:8080/"
        },
        "id": "IXEM0Z_3A4pa",
        "outputId": "c47fd9d2-0820-47ba-ff5c-69dcd91a1300"
      },
      "execution_count": null,
      "outputs": [
        {
          "output_type": "stream",
          "name": "stdout",
          "text": [
            "[[ 6 44 97 32 22]\n",
            " [35 93 71  0 19]\n",
            " [71 81 31 18 89]\n",
            " [53 14 40 45 78]]\n"
          ]
        },
        {
          "output_type": "execute_result",
          "data": {
            "text/plain": [
              "array([35, 93, 71, 19])"
            ]
          },
          "metadata": {},
          "execution_count": 26
        }
      ]
    },
    {
      "cell_type": "markdown",
      "source": [
        "One important note!!!!\n",
        "\n",
        "When you index off of an array, you dont actually create a copy! It is a reference to the original array. Changing the index version will change the original version!!!!\n",
        "\n",
        "If you want to make a true copy, you need to use array.copy. This way, you can preserve an original copy!!!!!"
      ],
      "metadata": {
        "id": "6vt9Kjmh0AJ9"
      }
    },
    {
      "cell_type": "code",
      "source": [
        "array = np.random.randint(0,20,10)\n",
        "print(array)\n",
        "array1 = array[0:4]\n",
        "print(array1)\n",
        "array1[:] = 100\n",
        "print(array)"
      ],
      "metadata": {
        "id": "R3Lz1lS1z_K6",
        "colab": {
          "base_uri": "https://localhost:8080/"
        },
        "outputId": "07834654-59fe-4d11-cd83-94813b7f814c"
      },
      "execution_count": null,
      "outputs": [
        {
          "output_type": "stream",
          "name": "stdout",
          "text": [
            "[ 2  7  9  9 13  0  1  4 12 13]\n",
            "[2 7 9 9]\n",
            "[100 100 100 100  13   0   1   4  12  13]\n"
          ]
        }
      ]
    },
    {
      "cell_type": "code",
      "source": [
        "#Make a copy\n",
        "array = np.random.randint(0,20,10)\n",
        "print(array)\n",
        "array_copy = array.copy()\n",
        "print(array_copy)\n",
        "array_copy[:] = 100\n",
        "print(array_copy)\n",
        "print(array)\n",
        "\n",
        "\n"
      ],
      "metadata": {
        "colab": {
          "base_uri": "https://localhost:8080/"
        },
        "id": "HbS-j1TOE38q",
        "outputId": "64608e1f-c2a8-47e7-baa5-feb79dcb6532"
      },
      "execution_count": null,
      "outputs": [
        {
          "output_type": "stream",
          "name": "stdout",
          "text": [
            "[19 10 19 13  8  1 12  6 17 18]\n",
            "[19 10 19 13  8  1 12  6 17 18]\n",
            "[100 100 100 100 100 100 100 100 100 100]\n",
            "[19 10 19 13  8  1 12  6 17 18]\n"
          ]
        }
      ]
    },
    {
      "cell_type": "markdown",
      "metadata": {
        "id": "UwyaMHd_cvsp"
      },
      "source": [
        "Basic Data Descriptions\n",
        "\n",
        "WE can get the minimum values and maximum values of an array with array.min and array.max.\n",
        "\n",
        "Likewise we can obtain the posiiton of the array with array.argmin and array.argmax."
      ]
    },
    {
      "cell_type": "code",
      "metadata": {
        "id": "JQViAlmoc2Xk",
        "colab": {
          "base_uri": "https://localhost:8080/"
        },
        "outputId": "831d1244-aaaa-4930-c7c2-40a0777dea11"
      },
      "source": [
        "array = np.random.randint(0,100,10)\n",
        "print(array)\n",
        "print(array.min())\n",
        "print(array.max())\n",
        "print(array.argmin())\n",
        "print(array.argmax())\n"
      ],
      "execution_count": null,
      "outputs": [
        {
          "output_type": "stream",
          "name": "stdout",
          "text": [
            "[80 84 52 45 68 13 57 56 29 52]\n",
            "13\n",
            "84\n",
            "5\n",
            "1\n"
          ]
        }
      ]
    },
    {
      "cell_type": "markdown",
      "source": [
        "Numpy is also set up so you can basically do math on the arrays. \n",
        "\n",
        "You can add arrays with array + array, array - array, array * array and array / array.\n",
        "\n",
        "You can also perform oeprations with numbers.\n",
        "\n",
        "More complex operations include square root or sqrt, trigonomtery, sin/cos, and logarithm, log. \n",
        "\n"
      ],
      "metadata": {
        "id": "xyE8IrSvyeju"
      }
    },
    {
      "cell_type": "code",
      "source": [
        "array1 = array = np.random.randint(0,100,20)\n",
        "array2 = array = np.random.randint(0,100,20)\n",
        "print(array1)\n",
        "print(array2)\n",
        "print(array1+array2)\n"
      ],
      "metadata": {
        "colab": {
          "base_uri": "https://localhost:8080/"
        },
        "id": "Kzd86FPzzI1T",
        "outputId": "0980a740-aaea-4c45-efaa-0fed0cf31b62"
      },
      "execution_count": null,
      "outputs": [
        {
          "output_type": "stream",
          "name": "stdout",
          "text": [
            "[94 86 86 80 50  9 62 90 24 71  0 96 59  1 47  5 45 65 47 51]\n",
            "[ 1 90 37 87 78 81 91 60 58 33 38 46 32 92 68 79 93 96  5 72]\n",
            "[ 95 176 123 167 128  90 153 150  82 104  38 142  91  93 115  84 138 161\n",
            "  52 123]\n"
          ]
        }
      ]
    },
    {
      "cell_type": "code",
      "source": [
        "array1 = array = np.random.randint(0,100,20)\n",
        "array2 = array = np.random.randint(0,100,20)\n",
        "print(array1)\n",
        "print(array2)\n",
        "print(array1*array2)"
      ],
      "metadata": {
        "colab": {
          "base_uri": "https://localhost:8080/"
        },
        "id": "zC_-llVtGPCs",
        "outputId": "13d7db67-1e7e-4f5e-b022-12bc5f496114"
      },
      "execution_count": null,
      "outputs": [
        {
          "output_type": "stream",
          "name": "stdout",
          "text": [
            "[71 71 40 42 96 52 84 45 46 35 50 24 35 91 36 58 93 10  8 42]\n",
            "[82 18 11 63 48 97 46 48 56  6 14 94 82 16 68 98 10 17 69  6]\n",
            "[5822 1278  440 2646 4608 5044 3864 2160 2576  210  700 2256 2870 1456\n",
            " 2448 5684  930  170  552  252]\n"
          ]
        }
      ]
    },
    {
      "cell_type": "code",
      "source": [
        "array1 = array = np.random.randint(0,100,20)\n",
        "print(array1)\n",
        "print(array1/2)"
      ],
      "metadata": {
        "id": "ABO1TCsjGnCl",
        "colab": {
          "base_uri": "https://localhost:8080/"
        },
        "outputId": "ff168650-0df2-4ed0-b2d3-82f739030839"
      },
      "execution_count": null,
      "outputs": [
        {
          "output_type": "stream",
          "name": "stdout",
          "text": [
            "[32 12  0 35 16  7 18  2 66 76 52 23 43 56 46 96 14 91 71 42]\n",
            "[16.   6.   0.  17.5  8.   3.5  9.   1.  33.  38.  26.  11.5 21.5 28.\n",
            " 23.  48.   7.  45.5 35.5 21. ]\n"
          ]
        }
      ]
    },
    {
      "cell_type": "code",
      "source": [
        "array = np.random.randint(0,100,20)\n",
        "print(array)\n",
        "print(np.sqrt(array))"
      ],
      "metadata": {
        "colab": {
          "base_uri": "https://localhost:8080/"
        },
        "id": "Y5xa551XGgs9",
        "outputId": "49480972-0b54-4d23-9175-7a6a9333274e"
      },
      "execution_count": null,
      "outputs": [
        {
          "output_type": "stream",
          "name": "stdout",
          "text": [
            "[19  7 62 21 13 11 65 69 70 39 45 98 13 23 97 21 56 40 56 97]\n",
            "[4.35889894 2.64575131 7.87400787 4.58257569 3.60555128 3.31662479\n",
            " 8.06225775 8.30662386 8.36660027 6.244998   6.70820393 9.89949494\n",
            " 3.60555128 4.79583152 9.8488578  4.58257569 7.48331477 6.32455532\n",
            " 7.48331477 9.8488578 ]\n"
          ]
        }
      ]
    }
  ]
}