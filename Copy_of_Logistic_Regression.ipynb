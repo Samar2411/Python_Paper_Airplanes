{
  "nbformat": 4,
  "nbformat_minor": 0,
  "metadata": {
    "colab": {
      "provenance": [],
      "include_colab_link": true
    },
    "kernelspec": {
      "name": "python3",
      "display_name": "Python 3"
    },
    "language_info": {
      "name": "python"
    }
  },
  "cells": [
    {
      "cell_type": "markdown",
      "metadata": {
        "id": "view-in-github",
        "colab_type": "text"
      },
      "source": [
        "<a href=\"https://colab.research.google.com/github/Samar2411/Python_Paper_Airplanes/blob/main/Copy_of_Logistic_Regression.ipynb\" target=\"_parent\"><img src=\"https://colab.research.google.com/assets/colab-badge.svg\" alt=\"Open In Colab\"/></a>"
      ]
    },
    {
      "cell_type": "markdown",
      "source": [
        "#Logistic Regression Using SciKit-Learn#\n",
        "\n",
        "##Goals##\n",
        "Train a logistic regression model using scikit-learn.\n",
        "\n",
        "##Dataset##\n",
        "We will use the same dataset as the lecture slides, with the addition of an Age input variable that tracks how old the patient of interest is. We visualize our training data on a scatterplot."
      ],
      "metadata": {
        "id": "bcCHU7iNytb4"
      }
    },
    {
      "cell_type": "code",
      "execution_count": null,
      "metadata": {
        "id": "xI6pQ1EsyoTZ",
        "colab": {
          "base_uri": "https://localhost:8080/",
          "height": 295
        },
        "outputId": "517872f4-c994-41d0-a81a-32a3ffcac6a9"
      },
      "outputs": [
        {
          "output_type": "display_data",
          "data": {
            "text/plain": [
              "<Figure size 432x288 with 1 Axes>"
            ],
            "image/png": "[encoded data removed]"
          },
          "metadata": {
            "needs_background": "light"
          }
        }
      ],
      "source": [
        "import numpy as np\n",
        "import pandas as pd\n",
        "import matplotlib.pyplot as plt\n",
        "\n",
        "df = pd.DataFrame({'Size': [10, 20, 30, 60, 70, 80, 110],\n",
        "                   'Age': [30, 40, 35, 70, 80, 65, 90],\n",
        "                   'Malignance': [0, 0, 0, 1, 1, 1, 1]})\n",
        "X = np.array(df[['Size', 'Age']])\n",
        "y = np.array(df['Malignance'])\n",
        "fig, ax = plt.subplots()\n",
        "scatter = ax.scatter(x=df['Size'], y=df['Malignance'], linewidths=1, alpha=0.7, edgecolor='k', s=200, c=df['Age'])\n",
        "ax.legend(*scatter.legend_elements(), title='Age (years)')\n",
        "ax.set_xlabel('Size (mm)')\n",
        "ax.set_ylabel('Malignance (no/yes)')\n",
        "ax.set_title('Tumor Size and Patient Age vs. Tumor Malignance')\n",
        "ax.grid(True)\n",
        "plt.show()"
      ]
    },
    {
      "cell_type": "markdown",
      "source": [
        "##Fit the Model##\n",
        "Next, import the [logistic regression model](https://scikit-learn.org/stable/modules/generated/sklearn.linear_model.LogisticRegression.html#sklearn.linear_model.LogisticRegression) from scikit-learn. Now we can use the `fit` function to fit our model on the training data."
      ],
      "metadata": {
        "id": "hpOPjeBt0ks5"
      }
    },
    {
      "cell_type": "code",
      "source": [
        "from sklearn.linear_model import LogisticRegression\n",
        "\n",
        "lr_model = LogisticRegression()\n",
        "lr_model.fit(X, y)"
      ],
      "metadata": {
        "id": "SWi3q8fGy_i9",
        "colab": {
          "base_uri": "https://localhost:8080/"
        },
        "outputId": "f4fd30c2-44b9-4400-c667-4ff1424e3823"
      },
      "execution_count": null,
      "outputs": [
        {
          "output_type": "execute_result",
          "data": {
            "text/plain": [
              "LogisticRegression()"
            ]
          },
          "metadata": {},
          "execution_count": 2
        }
      ]
    },
    {
      "cell_type": "markdown",
      "source": [
        "##Make Predictions##\n",
        "Using the `predict` function, we can now test out what predictions our model makes, given input variables."
      ],
      "metadata": {
        "id": "dgxEM_Kz1Ja4"
      }
    },
    {
      "cell_type": "code",
      "source": [
        "y_pred = lr_model.predict(X)\n",
        "\n",
        "print(\"Prediction on training set:\", y_pred)"
      ],
      "metadata": {
        "id": "WUTuvAfDzCDw",
        "colab": {
          "base_uri": "https://localhost:8080/"
        },
        "outputId": "25bc0de5-9ac5-454c-a2d1-cd150a13e3e8"
      },
      "execution_count": null,
      "outputs": [
        {
          "output_type": "stream",
          "name": "stdout",
          "text": [
            "Prediction on training set: [0 0 0 1 1 1 1]\n"
          ]
        }
      ]
    },
    {
      "cell_type": "markdown",
      "source": [
        "##Calculate Accuracy##\n",
        "Lastly, we can evaluate how accurate our model is by using the `score` function."
      ],
      "metadata": {
        "id": "9WcEB8l11J_2"
      }
    },
    {
      "cell_type": "code",
      "source": [
        "print(\"Accuracy on training set:\", lr_model.score(X, y))"
      ],
      "metadata": {
        "id": "TmTXJa6SzCKx",
        "colab": {
          "base_uri": "https://localhost:8080/"
        },
        "outputId": "366a6e5a-a9c7-473b-a6f4-279be51894fc"
      },
      "execution_count": null,
      "outputs": [
        {
          "output_type": "stream",
          "name": "stdout",
          "text": [
            "Accuracy on training set: 1.0\n"
          ]
        }
      ]
    }
  ]
}