{
  "nbformat": 4,
  "nbformat_minor": 0,
  "metadata": {
    "colab": {
      "provenance": [],
      "include_colab_link": true
    },
    "kernelspec": {
      "name": "python3",
      "display_name": "Python 3"
    },
    "language_info": {
      "name": "python"
    }
  },
  "cells": [
    {
      "cell_type": "markdown",
      "metadata": {
        "id": "view-in-github",
        "colab_type": "text"
      },
      "source": [
        "<a href=\"https://colab.research.google.com/github/Samar2411/Python_Paper_Airplanes/blob/main/Week_7_Variances_and_Data_Visualization.ipynb\" target=\"_parent\"><img src=\"https://colab.research.google.com/assets/colab-badge.svg\" alt=\"Open In Colab\"/></a>"
      ]
    },
    {
      "cell_type": "code",
      "execution_count": null,
      "metadata": {
        "id": "bdG5RzmKrVDA"
      },
      "outputs": [],
      "source": [
        "import numpy as np\n",
        "import pandas as pd\n",
        "import scipy.stats as stats\n",
        "import matplotlib.pyplot as plt\n",
        "from google.colab import files "
      ]
    },
    {
      "cell_type": "code",
      "source": [
        "cars = pd.DataFrame()\n",
        "cars['Toyota'] = array1 \n",
        "cars['KIA'] = array2\n",
        "cars['Ford'] = array3"
      ],
      "metadata": {
        "id": "thpLTFMU5oHI"
      },
      "execution_count": null,
      "outputs": []
    },
    {
      "cell_type": "code",
      "source": [
        "cars\n",
        "Cars"
      ],
      "metadata": {
        "colab": {
          "base_uri": "https://localhost:8080/",
          "height": 143
        },
        "id": "aTgEL5YOMJQz",
        "outputId": "75cdaac9-59a0-4041-d348-13b409c7ab99"
      },
      "execution_count": null,
      "outputs": [
        {
          "output_type": "execute_result",
          "data": {
            "text/plain": [
              "                                               speed\n",
              "0  [149.00899544901458, 149.8391459063808, 148.95...\n",
              "1  [129.22912043965997, 130.60576178429935, 130.3...\n",
              "2  [141.16163374837032, 139.026148499838, 139.809..."
            ],
            "text/html": [
              "\n",
              "  <div id=\"df-b151f351-4830-4da2-a88d-083f369ac212\">\n",
              "    <div class=\"colab-df-container\">\n",
              "      <div>\n",
              "<style scoped>\n",
              "    .dataframe tbody tr th:only-of-type {\n",
              "        vertical-align: middle;\n",
              "    }\n",
              "\n",
              "    .dataframe tbody tr th {\n",
              "        vertical-align: top;\n",
              "    }\n",
              "\n",
              "    .dataframe thead th {\n",
              "        text-align: right;\n",
              "    }\n",
              "</style>\n",
              "<table border=\"1\" class=\"dataframe\">\n",
              "  <thead>\n",
              "    <tr style=\"text-align: right;\">\n",
              "      <th></th>\n",
              "      <th>speed</th>\n",
              "    </tr>\n",
              "  </thead>\n",
              "  <tbody>\n",
              "    <tr>\n",
              "      <th>0</th>\n",
              "      <td>[149.00899544901458, 149.8391459063808, 148.95...</td>\n",
              "    </tr>\n",
              "    <tr>\n",
              "      <th>1</th>\n",
              "      <td>[129.22912043965997, 130.60576178429935, 130.3...</td>\n",
              "    </tr>\n",
              "    <tr>\n",
              "      <th>2</th>\n",
              "      <td>[141.16163374837032, 139.026148499838, 139.809...</td>\n",
              "    </tr>\n",
              "  </tbody>\n",
              "</table>\n",
              "</div>\n",
              "      <button class=\"colab-df-convert\" onclick=\"convertToInteractive('df-b151f351-4830-4da2-a88d-083f369ac212')\"\n",
              "              title=\"Convert this dataframe to an interactive table.\"\n",
              "              style=\"display:none;\">\n",
              "        \n",
              "  <svg xmlns=\"http://www.w3.org/2000/svg\" height=\"24px\"viewBox=\"0 0 24 24\"\n",
              "       width=\"24px\">\n",
              "    <path d=\"M0 0h24v24H0V0z\" fill=\"none\"/>\n",
              "    <path d=\"M18.56 5.44l.94 2.06.94-2.06 2.06-.94-2.06-.94-.94-2.06-.94 2.06-2.06.94zm-11 1L8.5 8.5l.94-2.06 2.06-.94-2.06-.94L8.5 2.5l-.94 2.06-2.06.94zm10 10l.94 2.06.94-2.06 2.06-.94-2.06-.94-.94-2.06-.94 2.06-2.06.94z\"/><path d=\"M17.41 7.96l-1.37-1.37c-.4-.4-.92-.59-1.43-.59-.52 0-1.04.2-1.43.59L10.3 9.45l-7.72 7.72c-.78.78-.78 2.05 0 2.83L4 21.41c.39.39.9.59 1.41.59.51 0 1.02-.2 1.41-.59l7.78-7.78 2.81-2.81c.8-.78.8-2.07 0-2.86zM5.41 20L4 18.59l7.72-7.72 1.47 1.35L5.41 20z\"/>\n",
              "  </svg>\n",
              "      </button>\n",
              "      \n",
              "  <style>\n",
              "    .colab-df-container {\n",
              "      display:flex;\n",
              "      flex-wrap:wrap;\n",
              "      gap: 12px;\n",
              "    }\n",
              "\n",
              "    .colab-df-convert {\n",
              "      background-color: #E8F0FE;\n",
              "      border: none;\n",
              "      border-radius: 50%;\n",
              "      cursor: pointer;\n",
              "      display: none;\n",
              "      fill: #1967D2;\n",
              "      height: 32px;\n",
              "      padding: 0 0 0 0;\n",
              "      width: 32px;\n",
              "    }\n",
              "\n",
              "    .colab-df-convert:hover {\n",
              "      background-color: #E2EBFA;\n",
              "      box-shadow: 0px 1px 2px rgba(60, 64, 67, 0.3), 0px 1px 3px 1px rgba(60, 64, 67, 0.15);\n",
              "      fill: #174EA6;\n",
              "    }\n",
              "\n",
              "    [theme=dark] .colab-df-convert {\n",
              "      background-color: #3B4455;\n",
              "      fill: #D2E3FC;\n",
              "    }\n",
              "\n",
              "    [theme=dark] .colab-df-convert:hover {\n",
              "      background-color: #434B5C;\n",
              "      box-shadow: 0px 1px 3px 1px rgba(0, 0, 0, 0.15);\n",
              "      filter: drop-shadow(0px 1px 2px rgba(0, 0, 0, 0.3));\n",
              "      fill: #FFFFFF;\n",
              "    }\n",
              "  </style>\n",
              "\n",
              "      <script>\n",
              "        const buttonEl =\n",
              "          document.querySelector('#df-b151f351-4830-4da2-a88d-083f369ac212 button.colab-df-convert');\n",
              "        buttonEl.style.display =\n",
              "          google.colab.kernel.accessAllowed ? 'block' : 'none';\n",
              "\n",
              "        async function convertToInteractive(key) {\n",
              "          const element = document.querySelector('#df-b151f351-4830-4da2-a88d-083f369ac212');\n",
              "          const dataTable =\n",
              "            await google.colab.kernel.invokeFunction('convertToInteractive',\n",
              "                                                     [key], {});\n",
              "          if (!dataTable) return;\n",
              "\n",
              "          const docLinkHtml = 'Like what you see? Visit the ' +\n",
              "            '<a target=\"_blank\" href=https://colab.research.google.com/notebooks/data_table.ipynb>data table notebook</a>'\n",
              "            + ' to learn more about interactive tables.';\n",
              "          element.innerHTML = '';\n",
              "          dataTable['output_type'] = 'display_data';\n",
              "          await google.colab.output.renderOutput(dataTable, element);\n",
              "          const docLink = document.createElement('div');\n",
              "          docLink.innerHTML = docLinkHtml;\n",
              "          element.appendChild(docLink);\n",
              "        }\n",
              "      </script>\n",
              "    </div>\n",
              "  </div>\n",
              "  "
            ]
          },
          "metadata": {},
          "execution_count": 66
        }
      ]
    },
    {
      "cell_type": "code",
      "source": [
        "cars.to_excel('Cars.xlsx')\n",
        "files.download('Cars.xlsx')"
      ],
      "metadata": {
        "colab": {
          "base_uri": "https://localhost:8080/",
          "height": 17
        },
        "id": "cG7mtGP65eFw",
        "outputId": "ef8139c8-e5f7-4c8d-e90c-c49a6c8530d5"
      },
      "execution_count": null,
      "outputs": [
        {
          "output_type": "display_data",
          "data": {
            "text/plain": [
              "<IPython.core.display.Javascript object>"
            ],
            "application/javascript": [
              "\n",
              "    async function download(id, filename, size) {\n",
              "      if (!google.colab.kernel.accessAllowed) {\n",
              "        return;\n",
              "      }\n",
              "      const div = document.createElement('div');\n",
              "      const label = document.createElement('label');\n",
              "      label.textContent = `Downloading \"${filename}\": `;\n",
              "      div.appendChild(label);\n",
              "      const progress = document.createElement('progress');\n",
              "      progress.max = size;\n",
              "      div.appendChild(progress);\n",
              "      document.body.appendChild(div);\n",
              "\n",
              "      const buffers = [];\n",
              "      let downloaded = 0;\n",
              "\n",
              "      const channel = await google.colab.kernel.comms.open(id);\n",
              "      // Send a message to notify the kernel that we're ready.\n",
              "      channel.send({})\n",
              "\n",
              "      for await (const message of channel.messages) {\n",
              "        // Send a message to notify the kernel that we're ready.\n",
              "        channel.send({})\n",
              "        if (message.buffers) {\n",
              "          for (const buffer of message.buffers) {\n",
              "            buffers.push(buffer);\n",
              "            downloaded += buffer.byteLength;\n",
              "            progress.value = downloaded;\n",
              "          }\n",
              "        }\n",
              "      }\n",
              "      const blob = new Blob(buffers, {type: 'application/binary'});\n",
              "      const a = document.createElement('a');\n",
              "      a.href = window.URL.createObjectURL(blob);\n",
              "      a.download = filename;\n",
              "      div.appendChild(a);\n",
              "      a.click();\n",
              "      div.remove();\n",
              "    }\n",
              "  "
            ]
          },
          "metadata": {}
        },
        {
          "output_type": "display_data",
          "data": {
            "text/plain": [
              "<IPython.core.display.Javascript object>"
            ],
            "application/javascript": [
              "download(\"download_67b57e95-4964-446b-a3eb-46fa76e02514\", \"Cars.xlsx\", 14298)"
            ]
          },
          "metadata": {}
        }
      ]
    },
    {
      "cell_type": "markdown",
      "source": [
        "# ANOVA\n",
        "\n",
        "\n",
        "ANOVA stands for Analysis of Variance and it can be used to compared more than two groups/samples in statistics.\n",
        "\n",
        "The null hypothesis is that all the groups are equal. If there is a pvalue lower than .05, at least one of the groups is different than another one. \n",
        "\n",
        "The conditions to conduct an ANOVA are \n",
        "1. Normally Distributed Data \n",
        "2. Independent Samples\n",
        "\n",
        "One important consideration is whether the variance is equal or unequal between the samples. \n",
        "\n",
        "Without getting too much into how variance is calcualted, there is a test called bartletts's test that allows you to check if youre samples have equal variance. \n",
        "\n",
        "Lets say for example that we have 3 car companies. All of them claim their cars are the fastest. We cannot drive all of them so we must take a sample. We test drive 200 cars from each \n"
      ],
      "metadata": {
        "id": "fVKL9uQ6rVyP"
      }
    },
    {
      "cell_type": "code",
      "source": [
        "from scipy.stats import shapiro"
      ],
      "metadata": {
        "id": "Y8w4Pvlq1vMc"
      },
      "execution_count": null,
      "outputs": []
    },
    {
      "cell_type": "code",
      "source": [
        "from scipy.stats import bartlett"
      ],
      "metadata": {
        "id": "E-fv8GpPw78B"
      },
      "execution_count": null,
      "outputs": []
    },
    {
      "cell_type": "code",
      "source": [
        "uploaded = files.upload()"
      ],
      "metadata": {
        "colab": {
          "base_uri": "https://localhost:8080/",
          "height": 73
        },
        "id": "79nA5F4d_gQF",
        "outputId": "96e646bc-14e1-463b-e7fe-c1545dea1e82"
      },
      "execution_count": null,
      "outputs": [
        {
          "output_type": "display_data",
          "data": {
            "text/plain": [
              "<IPython.core.display.HTML object>"
            ],
            "text/html": [
              "\n",
              "     <input type=\"file\" id=\"files-b96d20b8-eea4-43c9-83b4-fb417fcce43e\" name=\"files[]\" multiple disabled\n",
              "        style=\"border:none\" />\n",
              "     <output id=\"result-b96d20b8-eea4-43c9-83b4-fb417fcce43e\">\n",
              "      Upload widget is only available when the cell has been executed in the\n",
              "      current browser session. Please rerun this cell to enable.\n",
              "      </output>\n",
              "      <script>// Copyright 2017 Google LLC\n",
              "//\n",
              "// Licensed under the Apache License, Version 2.0 (the \"License\");\n",
              "// you may not use this file except in compliance with the License.\n",
              "// You may obtain a copy of the License at\n",
              "//\n",
              "//      http://www.apache.org/licenses/LICENSE-2.0\n",
              "//\n",
              "// Unless required by applicable law or agreed to in writing, software\n",
              "// distributed under the License is distributed on an \"AS IS\" BASIS,\n",
              "// WITHOUT WARRANTIES OR CONDITIONS OF ANY KIND, either express or implied.\n",
              "// See the License for the specific language governing permissions and\n",
              "// limitations under the License.\n",
              "\n",
              "/**\n",
              " * @fileoverview Helpers for google.colab Python module.\n",
              " */\n",
              "(function(scope) {\n",
              "function span(text, styleAttributes = {}) {\n",
              "  const element = document.createElement('span');\n",
              "  element.textContent = text;\n",
              "  for (const key of Object.keys(styleAttributes)) {\n",
              "    element.style[key] = styleAttributes[key];\n",
              "  }\n",
              "  return element;\n",
              "}\n",
              "\n",
              "// Max number of bytes which will be uploaded at a time.\n",
              "const MAX_PAYLOAD_SIZE = 100 * 1024;\n",
              "\n",
              "function _uploadFiles(inputId, outputId) {\n",
              "  const steps = uploadFilesStep(inputId, outputId);\n",
              "  const outputElement = document.getElementById(outputId);\n",
              "  // Cache steps on the outputElement to make it available for the next call\n",
              "  // to uploadFilesContinue from Python.\n",
              "  outputElement.steps = steps;\n",
              "\n",
              "  return _uploadFilesContinue(outputId);\n",
              "}\n",
              "\n",
              "// This is roughly an async generator (not supported in the browser yet),\n",
              "// where there are multiple asynchronous steps and the Python side is going\n",
              "// to poll for completion of each step.\n",
              "// This uses a Promise to block the python side on completion of each step,\n",
              "// then passes the result of the previous step as the input to the next step.\n",
              "function _uploadFilesContinue(outputId) {\n",
              "  const outputElement = document.getElementById(outputId);\n",
              "  const steps = outputElement.steps;\n",
              "\n",
              "  const next = steps.next(outputElement.lastPromiseValue);\n",
              "  return Promise.resolve(next.value.promise).then((value) => {\n",
              "    // Cache the last promise value to make it available to the next\n",
              "    // step of the generator.\n",
              "    outputElement.lastPromiseValue = value;\n",
              "    return next.value.response;\n",
              "  });\n",
              "}\n",
              "\n",
              "/**\n",
              " * Generator function which is called between each async step of the upload\n",
              " * process.\n",
              " * @param {string} inputId Element ID of the input file picker element.\n",
              " * @param {string} outputId Element ID of the output display.\n",
              " * @return {!Iterable<!Object>} Iterable of next steps.\n",
              " */\n",
              "function* uploadFilesStep(inputId, outputId) {\n",
              "  const inputElement = document.getElementById(inputId);\n",
              "  inputElement.disabled = false;\n",
              "\n",
              "  const outputElement = document.getElementById(outputId);\n",
              "  outputElement.innerHTML = '';\n",
              "\n",
              "  const pickedPromise = new Promise((resolve) => {\n",
              "    inputElement.addEventListener('change', (e) => {\n",
              "      resolve(e.target.files);\n",
              "    });\n",
              "  });\n",
              "\n",
              "  const cancel = document.createElement('button');\n",
              "  inputElement.parentElement.appendChild(cancel);\n",
              "  cancel.textContent = 'Cancel upload';\n",
              "  const cancelPromise = new Promise((resolve) => {\n",
              "    cancel.onclick = () => {\n",
              "      resolve(null);\n",
              "    };\n",
              "  });\n",
              "\n",
              "  // Wait for the user to pick the files.\n",
              "  const files = yield {\n",
              "    promise: Promise.race([pickedPromise, cancelPromise]),\n",
              "    response: {\n",
              "      action: 'starting',\n",
              "    }\n",
              "  };\n",
              "\n",
              "  cancel.remove();\n",
              "\n",
              "  // Disable the input element since further picks are not allowed.\n",
              "  inputElement.disabled = true;\n",
              "\n",
              "  if (!files) {\n",
              "    return {\n",
              "      response: {\n",
              "        action: 'complete',\n",
              "      }\n",
              "    };\n",
              "  }\n",
              "\n",
              "  for (const file of files) {\n",
              "    const li = document.createElement('li');\n",
              "    li.append(span(file.name, {fontWeight: 'bold'}));\n",
              "    li.append(span(\n",
              "        `(${file.type || 'n/a'}) - ${file.size} bytes, ` +\n",
              "        `last modified: ${\n",
              "            file.lastModifiedDate ? file.lastModifiedDate.toLocaleDateString() :\n",
              "                                    'n/a'} - `));\n",
              "    const percent = span('0% done');\n",
              "    li.appendChild(percent);\n",
              "\n",
              "    outputElement.appendChild(li);\n",
              "\n",
              "    const fileDataPromise = new Promise((resolve) => {\n",
              "      const reader = new FileReader();\n",
              "      reader.onload = (e) => {\n",
              "        resolve(e.target.result);\n",
              "      };\n",
              "      reader.readAsArrayBuffer(file);\n",
              "    });\n",
              "    // Wait for the data to be ready.\n",
              "    let fileData = yield {\n",
              "      promise: fileDataPromise,\n",
              "      response: {\n",
              "        action: 'continue',\n",
              "      }\n",
              "    };\n",
              "\n",
              "    // Use a chunked sending to avoid message size limits. See b/62115660.\n",
              "    let position = 0;\n",
              "    do {\n",
              "      const length = Math.min(fileData.byteLength - position, MAX_PAYLOAD_SIZE);\n",
              "      const chunk = new Uint8Array(fileData, position, length);\n",
              "      position += length;\n",
              "\n",
              "      const base64 = btoa(String.fromCharCode.apply(null, chunk));\n",
              "      yield {\n",
              "        response: {\n",
              "          action: 'append',\n",
              "          file: file.name,\n",
              "          data: base64,\n",
              "        },\n",
              "      };\n",
              "\n",
              "      let percentDone = fileData.byteLength === 0 ?\n",
              "          100 :\n",
              "          Math.round((position / fileData.byteLength) * 100);\n",
              "      percent.textContent = `${percentDone}% done`;\n",
              "\n",
              "    } while (position < fileData.byteLength);\n",
              "  }\n",
              "\n",
              "  // All done.\n",
              "  yield {\n",
              "    response: {\n",
              "      action: 'complete',\n",
              "    }\n",
              "  };\n",
              "}\n",
              "\n",
              "scope.google = scope.google || {};\n",
              "scope.google.colab = scope.google.colab || {};\n",
              "scope.google.colab._files = {\n",
              "  _uploadFiles,\n",
              "  _uploadFilesContinue,\n",
              "};\n",
              "})(self);\n",
              "</script> "
            ]
          },
          "metadata": {}
        },
        {
          "output_type": "stream",
          "name": "stdout",
          "text": [
            "Saving Cars .csv to Cars .csv\n"
          ]
        }
      ]
    },
    {
      "cell_type": "code",
      "source": [
        "cars = pd.read_csv('Cars .csv')"
      ],
      "metadata": {
        "id": "v2v2oEqWAgw_"
      },
      "execution_count": null,
      "outputs": []
    },
    {
      "cell_type": "code",
      "source": [
        "cars"
      ],
      "metadata": {
        "colab": {
          "base_uri": "https://localhost:8080/",
          "height": 424
        },
        "id": "Gpa1dI-AVJLa",
        "outputId": "1ccd3a02-d064-4791-e41d-db933afb4535"
      },
      "execution_count": null,
      "outputs": [
        {
          "output_type": "execute_result",
          "data": {
            "text/plain": [
              "         Toyota         KIA        Ford\n",
              "0    149.008995  129.229120  141.161634\n",
              "1    149.839146  130.605762  139.026149\n",
              "2    148.952551  130.359002  139.809250\n",
              "3    150.972079  131.205757  140.068181\n",
              "4    149.674316  128.843755  139.794471\n",
              "..          ...         ...         ...\n",
              "195  149.535863  128.307480  140.180270\n",
              "196  149.548645  129.449314  142.089545\n",
              "197  149.226530  130.716423  140.972305\n",
              "198  150.592555  128.689364  140.874163\n",
              "199  151.893604  130.280456  140.982059\n",
              "\n",
              "[200 rows x 3 columns]"
            ],
            "text/html": [
              "\n",
              "  <div id=\"df-dcbe94bd-f4a0-4ce9-9b40-ec044df4073d\">\n",
              "    <div class=\"colab-df-container\">\n",
              "      <div>\n",
              "<style scoped>\n",
              "    .dataframe tbody tr th:only-of-type {\n",
              "        vertical-align: middle;\n",
              "    }\n",
              "\n",
              "    .dataframe tbody tr th {\n",
              "        vertical-align: top;\n",
              "    }\n",
              "\n",
              "    .dataframe thead th {\n",
              "        text-align: right;\n",
              "    }\n",
              "</style>\n",
              "<table border=\"1\" class=\"dataframe\">\n",
              "  <thead>\n",
              "    <tr style=\"text-align: right;\">\n",
              "      <th></th>\n",
              "      <th>Toyota</th>\n",
              "      <th>KIA</th>\n",
              "      <th>Ford</th>\n",
              "    </tr>\n",
              "  </thead>\n",
              "  <tbody>\n",
              "    <tr>\n",
              "      <th>0</th>\n",
              "      <td>149.008995</td>\n",
              "      <td>129.229120</td>\n",
              "      <td>141.161634</td>\n",
              "    </tr>\n",
              "    <tr>\n",
              "      <th>1</th>\n",
              "      <td>149.839146</td>\n",
              "      <td>130.605762</td>\n",
              "      <td>139.026149</td>\n",
              "    </tr>\n",
              "    <tr>\n",
              "      <th>2</th>\n",
              "      <td>148.952551</td>\n",
              "      <td>130.359002</td>\n",
              "      <td>139.809250</td>\n",
              "    </tr>\n",
              "    <tr>\n",
              "      <th>3</th>\n",
              "      <td>150.972079</td>\n",
              "      <td>131.205757</td>\n",
              "      <td>140.068181</td>\n",
              "    </tr>\n",
              "    <tr>\n",
              "      <th>4</th>\n",
              "      <td>149.674316</td>\n",
              "      <td>128.843755</td>\n",
              "      <td>139.794471</td>\n",
              "    </tr>\n",
              "    <tr>\n",
              "      <th>...</th>\n",
              "      <td>...</td>\n",
              "      <td>...</td>\n",
              "      <td>...</td>\n",
              "    </tr>\n",
              "    <tr>\n",
              "      <th>195</th>\n",
              "      <td>149.535863</td>\n",
              "      <td>128.307480</td>\n",
              "      <td>140.180270</td>\n",
              "    </tr>\n",
              "    <tr>\n",
              "      <th>196</th>\n",
              "      <td>149.548645</td>\n",
              "      <td>129.449314</td>\n",
              "      <td>142.089545</td>\n",
              "    </tr>\n",
              "    <tr>\n",
              "      <th>197</th>\n",
              "      <td>149.226530</td>\n",
              "      <td>130.716423</td>\n",
              "      <td>140.972305</td>\n",
              "    </tr>\n",
              "    <tr>\n",
              "      <th>198</th>\n",
              "      <td>150.592555</td>\n",
              "      <td>128.689364</td>\n",
              "      <td>140.874163</td>\n",
              "    </tr>\n",
              "    <tr>\n",
              "      <th>199</th>\n",
              "      <td>151.893604</td>\n",
              "      <td>130.280456</td>\n",
              "      <td>140.982059</td>\n",
              "    </tr>\n",
              "  </tbody>\n",
              "</table>\n",
              "<p>200 rows × 3 columns</p>\n",
              "</div>\n",
              "      <button class=\"colab-df-convert\" onclick=\"convertToInteractive('df-dcbe94bd-f4a0-4ce9-9b40-ec044df4073d')\"\n",
              "              title=\"Convert this dataframe to an interactive table.\"\n",
              "              style=\"display:none;\">\n",
              "        \n",
              "  <svg xmlns=\"http://www.w3.org/2000/svg\" height=\"24px\"viewBox=\"0 0 24 24\"\n",
              "       width=\"24px\">\n",
              "    <path d=\"M0 0h24v24H0V0z\" fill=\"none\"/>\n",
              "    <path d=\"M18.56 5.44l.94 2.06.94-2.06 2.06-.94-2.06-.94-.94-2.06-.94 2.06-2.06.94zm-11 1L8.5 8.5l.94-2.06 2.06-.94-2.06-.94L8.5 2.5l-.94 2.06-2.06.94zm10 10l.94 2.06.94-2.06 2.06-.94-2.06-.94-.94-2.06-.94 2.06-2.06.94z\"/><path d=\"M17.41 7.96l-1.37-1.37c-.4-.4-.92-.59-1.43-.59-.52 0-1.04.2-1.43.59L10.3 9.45l-7.72 7.72c-.78.78-.78 2.05 0 2.83L4 21.41c.39.39.9.59 1.41.59.51 0 1.02-.2 1.41-.59l7.78-7.78 2.81-2.81c.8-.78.8-2.07 0-2.86zM5.41 20L4 18.59l7.72-7.72 1.47 1.35L5.41 20z\"/>\n",
              "  </svg>\n",
              "      </button>\n",
              "      \n",
              "  <style>\n",
              "    .colab-df-container {\n",
              "      display:flex;\n",
              "      flex-wrap:wrap;\n",
              "      gap: 12px;\n",
              "    }\n",
              "\n",
              "    .colab-df-convert {\n",
              "      background-color: #E8F0FE;\n",
              "      border: none;\n",
              "      border-radius: 50%;\n",
              "      cursor: pointer;\n",
              "      display: none;\n",
              "      fill: #1967D2;\n",
              "      height: 32px;\n",
              "      padding: 0 0 0 0;\n",
              "      width: 32px;\n",
              "    }\n",
              "\n",
              "    .colab-df-convert:hover {\n",
              "      background-color: #E2EBFA;\n",
              "      box-shadow: 0px 1px 2px rgba(60, 64, 67, 0.3), 0px 1px 3px 1px rgba(60, 64, 67, 0.15);\n",
              "      fill: #174EA6;\n",
              "    }\n",
              "\n",
              "    [theme=dark] .colab-df-convert {\n",
              "      background-color: #3B4455;\n",
              "      fill: #D2E3FC;\n",
              "    }\n",
              "\n",
              "    [theme=dark] .colab-df-convert:hover {\n",
              "      background-color: #434B5C;\n",
              "      box-shadow: 0px 1px 3px 1px rgba(0, 0, 0, 0.15);\n",
              "      filter: drop-shadow(0px 1px 2px rgba(0, 0, 0, 0.3));\n",
              "      fill: #FFFFFF;\n",
              "    }\n",
              "  </style>\n",
              "\n",
              "      <script>\n",
              "        const buttonEl =\n",
              "          document.querySelector('#df-dcbe94bd-f4a0-4ce9-9b40-ec044df4073d button.colab-df-convert');\n",
              "        buttonEl.style.display =\n",
              "          google.colab.kernel.accessAllowed ? 'block' : 'none';\n",
              "\n",
              "        async function convertToInteractive(key) {\n",
              "          const element = document.querySelector('#df-dcbe94bd-f4a0-4ce9-9b40-ec044df4073d');\n",
              "          const dataTable =\n",
              "            await google.colab.kernel.invokeFunction('convertToInteractive',\n",
              "                                                     [key], {});\n",
              "          if (!dataTable) return;\n",
              "\n",
              "          const docLinkHtml = 'Like what you see? Visit the ' +\n",
              "            '<a target=\"_blank\" href=https://colab.research.google.com/notebooks/data_table.ipynb>data table notebook</a>'\n",
              "            + ' to learn more about interactive tables.';\n",
              "          element.innerHTML = '';\n",
              "          dataTable['output_type'] = 'display_data';\n",
              "          await google.colab.output.renderOutput(dataTable, element);\n",
              "          const docLink = document.createElement('div');\n",
              "          docLink.innerHTML = docLinkHtml;\n",
              "          element.appendChild(docLink);\n",
              "        }\n",
              "      </script>\n",
              "    </div>\n",
              "  </div>\n",
              "  "
            ]
          },
          "metadata": {},
          "execution_count": 6
        }
      ]
    },
    {
      "cell_type": "markdown",
      "source": [
        "# Checking for equal variances\n",
        "\n",
        "We will learn to visualize data later and look at variances but you can also use the bartlett test to check if their variances are equal. If the p value is greater than .05, we say that the variances are equal. "
      ],
      "metadata": {
        "id": "vBph3oMhFcEJ"
      }
    },
    {
      "cell_type": "code",
      "source": [
        "bartlett(cars['Toyota'], cars['KIA'], cars['Ford'])"
      ],
      "metadata": {
        "colab": {
          "base_uri": "https://localhost:8080/"
        },
        "id": "y3CVx3lWBxzX",
        "outputId": "3789389a-cc33-4e4e-d9bd-23aaff1fcd20"
      },
      "execution_count": null,
      "outputs": [
        {
          "output_type": "execute_result",
          "data": {
            "text/plain": [
              "BartlettResult(statistic=0.02710623932514517, pvalue=0.9865383103436908)"
            ]
          },
          "metadata": {},
          "execution_count": 7
        }
      ]
    },
    {
      "cell_type": "markdown",
      "source": [
        "The syntax for the ANOVA test itself is quite simple. Inside the stats.f_oneway() you just need to place series representing each of the samples. "
      ],
      "metadata": {
        "id": "sfClWjPrAl-C"
      }
    },
    {
      "cell_type": "code",
      "source": [
        "stats.f_oneway(cars['Toyota'], cars['KIA'], cars['Ford'])"
      ],
      "metadata": {
        "id": "wm0XnqfxtxhS",
        "colab": {
          "base_uri": "https://localhost:8080/"
        },
        "outputId": "9e755dea-f899-48dd-ee36-d6d801e5a4c2"
      },
      "execution_count": null,
      "outputs": [
        {
          "output_type": "execute_result",
          "data": {
            "text/plain": [
              "F_onewayResult(statistic=19126.568543854937, pvalue=0.0)"
            ]
          },
          "metadata": {},
          "execution_count": 8
        }
      ]
    },
    {
      "cell_type": "markdown",
      "source": [
        "#Posthoc Tukey Test\n",
        "\n",
        "If we want to know which groups are different from each other, we need to use a test called a Posthoc Tukey Test. The output is messy so we want to save it onto a variable well call Tukey and call it so we can observe the test results.\n",
        "\n",
        "Our first argument is our data, then our groups. \n",
        "\n",
        "Unfortunately, the tukey test requires that our data be organized such that the name of each car company is on the same row as the data. The first code cell is dedicated to doing that. "
      ],
      "metadata": {
        "id": "M_wkYXhc2qfh"
      }
    },
    {
      "cell_type": "code",
      "source": [
        "array1 = np.random.normal(150, 1, 200)\n",
        "array2 = np.random.normal(130, 1, 200)\n",
        "array3 = np.random.normal(140, 1, 200)\n",
        "array1 = np.append(array1, array2)\n",
        "array1 = np.append(array1, array3)\n",
        "company = ['Toyota'] * 200 + ['KIA']*200 + ['Ford']*200\n",
        "Master_DF = pd.DataFrame()\n",
        "Master_DF['speed'] = array1\n",
        "Master_DF['company'] = company\n",
        "Master_DF"
      ],
      "metadata": {
        "id": "qVbVITs-BXjN",
        "colab": {
          "base_uri": "https://localhost:8080/",
          "height": 424
        },
        "outputId": "61d87bdc-1a27-430d-d04b-985bb00bdb7e"
      },
      "execution_count": null,
      "outputs": [
        {
          "output_type": "execute_result",
          "data": {
            "text/plain": [
              "          speed company\n",
              "0    147.266690  Toyota\n",
              "1    150.615816  Toyota\n",
              "2    150.454802  Toyota\n",
              "3    150.163796  Toyota\n",
              "4    151.070310  Toyota\n",
              "..          ...     ...\n",
              "595  140.992569    Ford\n",
              "596  142.340925    Ford\n",
              "597  139.481858    Ford\n",
              "598  139.451843    Ford\n",
              "599  139.201885    Ford\n",
              "\n",
              "[600 rows x 2 columns]"
            ],
            "text/html": [
              "\n",
              "  <div id=\"df-2a4d6af1-86fc-4f4d-980b-45f416532501\">\n",
              "    <div class=\"colab-df-container\">\n",
              "      <div>\n",
              "<style scoped>\n",
              "    .dataframe tbody tr th:only-of-type {\n",
              "        vertical-align: middle;\n",
              "    }\n",
              "\n",
              "    .dataframe tbody tr th {\n",
              "        vertical-align: top;\n",
              "    }\n",
              "\n",
              "    .dataframe thead th {\n",
              "        text-align: right;\n",
              "    }\n",
              "</style>\n",
              "<table border=\"1\" class=\"dataframe\">\n",
              "  <thead>\n",
              "    <tr style=\"text-align: right;\">\n",
              "      <th></th>\n",
              "      <th>speed</th>\n",
              "      <th>company</th>\n",
              "    </tr>\n",
              "  </thead>\n",
              "  <tbody>\n",
              "    <tr>\n",
              "      <th>0</th>\n",
              "      <td>147.266690</td>\n",
              "      <td>Toyota</td>\n",
              "    </tr>\n",
              "    <tr>\n",
              "      <th>1</th>\n",
              "      <td>150.615816</td>\n",
              "      <td>Toyota</td>\n",
              "    </tr>\n",
              "    <tr>\n",
              "      <th>2</th>\n",
              "      <td>150.454802</td>\n",
              "      <td>Toyota</td>\n",
              "    </tr>\n",
              "    <tr>\n",
              "      <th>3</th>\n",
              "      <td>150.163796</td>\n",
              "      <td>Toyota</td>\n",
              "    </tr>\n",
              "    <tr>\n",
              "      <th>4</th>\n",
              "      <td>151.070310</td>\n",
              "      <td>Toyota</td>\n",
              "    </tr>\n",
              "    <tr>\n",
              "      <th>...</th>\n",
              "      <td>...</td>\n",
              "      <td>...</td>\n",
              "    </tr>\n",
              "    <tr>\n",
              "      <th>595</th>\n",
              "      <td>140.992569</td>\n",
              "      <td>Ford</td>\n",
              "    </tr>\n",
              "    <tr>\n",
              "      <th>596</th>\n",
              "      <td>142.340925</td>\n",
              "      <td>Ford</td>\n",
              "    </tr>\n",
              "    <tr>\n",
              "      <th>597</th>\n",
              "      <td>139.481858</td>\n",
              "      <td>Ford</td>\n",
              "    </tr>\n",
              "    <tr>\n",
              "      <th>598</th>\n",
              "      <td>139.451843</td>\n",
              "      <td>Ford</td>\n",
              "    </tr>\n",
              "    <tr>\n",
              "      <th>599</th>\n",
              "      <td>139.201885</td>\n",
              "      <td>Ford</td>\n",
              "    </tr>\n",
              "  </tbody>\n",
              "</table>\n",
              "<p>600 rows × 2 columns</p>\n",
              "</div>\n",
              "      <button class=\"colab-df-convert\" onclick=\"convertToInteractive('df-2a4d6af1-86fc-4f4d-980b-45f416532501')\"\n",
              "              title=\"Convert this dataframe to an interactive table.\"\n",
              "              style=\"display:none;\">\n",
              "        \n",
              "  <svg xmlns=\"http://www.w3.org/2000/svg\" height=\"24px\"viewBox=\"0 0 24 24\"\n",
              "       width=\"24px\">\n",
              "    <path d=\"M0 0h24v24H0V0z\" fill=\"none\"/>\n",
              "    <path d=\"M18.56 5.44l.94 2.06.94-2.06 2.06-.94-2.06-.94-.94-2.06-.94 2.06-2.06.94zm-11 1L8.5 8.5l.94-2.06 2.06-.94-2.06-.94L8.5 2.5l-.94 2.06-2.06.94zm10 10l.94 2.06.94-2.06 2.06-.94-2.06-.94-.94-2.06-.94 2.06-2.06.94z\"/><path d=\"M17.41 7.96l-1.37-1.37c-.4-.4-.92-.59-1.43-.59-.52 0-1.04.2-1.43.59L10.3 9.45l-7.72 7.72c-.78.78-.78 2.05 0 2.83L4 21.41c.39.39.9.59 1.41.59.51 0 1.02-.2 1.41-.59l7.78-7.78 2.81-2.81c.8-.78.8-2.07 0-2.86zM5.41 20L4 18.59l7.72-7.72 1.47 1.35L5.41 20z\"/>\n",
              "  </svg>\n",
              "      </button>\n",
              "      \n",
              "  <style>\n",
              "    .colab-df-container {\n",
              "      display:flex;\n",
              "      flex-wrap:wrap;\n",
              "      gap: 12px;\n",
              "    }\n",
              "\n",
              "    .colab-df-convert {\n",
              "      background-color: #E8F0FE;\n",
              "      border: none;\n",
              "      border-radius: 50%;\n",
              "      cursor: pointer;\n",
              "      display: none;\n",
              "      fill: #1967D2;\n",
              "      height: 32px;\n",
              "      padding: 0 0 0 0;\n",
              "      width: 32px;\n",
              "    }\n",
              "\n",
              "    .colab-df-convert:hover {\n",
              "      background-color: #E2EBFA;\n",
              "      box-shadow: 0px 1px 2px rgba(60, 64, 67, 0.3), 0px 1px 3px 1px rgba(60, 64, 67, 0.15);\n",
              "      fill: #174EA6;\n",
              "    }\n",
              "\n",
              "    [theme=dark] .colab-df-convert {\n",
              "      background-color: #3B4455;\n",
              "      fill: #D2E3FC;\n",
              "    }\n",
              "\n",
              "    [theme=dark] .colab-df-convert:hover {\n",
              "      background-color: #434B5C;\n",
              "      box-shadow: 0px 1px 3px 1px rgba(0, 0, 0, 0.15);\n",
              "      filter: drop-shadow(0px 1px 2px rgba(0, 0, 0, 0.3));\n",
              "      fill: #FFFFFF;\n",
              "    }\n",
              "  </style>\n",
              "\n",
              "      <script>\n",
              "        const buttonEl =\n",
              "          document.querySelector('#df-2a4d6af1-86fc-4f4d-980b-45f416532501 button.colab-df-convert');\n",
              "        buttonEl.style.display =\n",
              "          google.colab.kernel.accessAllowed ? 'block' : 'none';\n",
              "\n",
              "        async function convertToInteractive(key) {\n",
              "          const element = document.querySelector('#df-2a4d6af1-86fc-4f4d-980b-45f416532501');\n",
              "          const dataTable =\n",
              "            await google.colab.kernel.invokeFunction('convertToInteractive',\n",
              "                                                     [key], {});\n",
              "          if (!dataTable) return;\n",
              "\n",
              "          const docLinkHtml = 'Like what you see? Visit the ' +\n",
              "            '<a target=\"_blank\" href=https://colab.research.google.com/notebooks/data_table.ipynb>data table notebook</a>'\n",
              "            + ' to learn more about interactive tables.';\n",
              "          element.innerHTML = '';\n",
              "          dataTable['output_type'] = 'display_data';\n",
              "          await google.colab.output.renderOutput(dataTable, element);\n",
              "          const docLink = document.createElement('div');\n",
              "          docLink.innerHTML = docLinkHtml;\n",
              "          element.appendChild(docLink);\n",
              "        }\n",
              "      </script>\n",
              "    </div>\n",
              "  </div>\n",
              "  "
            ]
          },
          "metadata": {},
          "execution_count": 9
        }
      ]
    },
    {
      "cell_type": "markdown",
      "source": [
        "Once the data has been organized correctly, the syntax is quite simple. The data or speeds in this case is the first arguement. The groups or in this case, the company names are the second argument.\n",
        "\n",
        "The result is a table of pairwise comparisons and shows the p value for each comparison. "
      ],
      "metadata": {
        "id": "k3ZOQeRtBcR6"
      }
    },
    {
      "cell_type": "code",
      "source": [
        "from statsmodels.stats.multicomp import pairwise_tukeyhsd\n",
        "result = pairwise_tukeyhsd(Master_DF['speed'], Master_DF['company'])\n",
        "print(result)"
      ],
      "metadata": {
        "id": "AocbzGfs3UTk",
        "colab": {
          "base_uri": "https://localhost:8080/"
        },
        "outputId": "73088808-5205-4422-9d5b-2e36655f3193"
      },
      "execution_count": null,
      "outputs": [
        {
          "output_type": "stream",
          "name": "stdout",
          "text": [
            "Multiple Comparison of Means - Tukey HSD, FWER=0.05 \n",
            "====================================================\n",
            "group1 group2 meandiff p-adj  lower    upper  reject\n",
            "----------------------------------------------------\n",
            "  Ford    KIA  -9.8557 0.001 -10.0825 -9.6289   True\n",
            "  Ford Toyota   9.9164 0.001   9.6896 10.1432   True\n",
            "   KIA Toyota  19.7721 0.001  19.5453 19.9989   True\n",
            "----------------------------------------------------\n"
          ]
        }
      ]
    },
    {
      "cell_type": "markdown",
      "source": [
        "#Skewed Data\n",
        "\n",
        "So far, we have treated data that has a normal distribution. But in reality, sometimes data is skewed or not distributed about the mean. If that is the case, that we cannot use the methods we have discussed so far and rather, we need to apply a different set of statistical tests. Generally speaking, the tests for skewed data test if the medians, not the means, are different. \n",
        "\n",
        "![image.png](data:image/png;base64,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)"
      ],
      "metadata": {
        "id": "rV6BjOBDQ5xf"
      }
    },
    {
      "cell_type": "markdown",
      "source": [
        "#Two Unpaired Skewed Distributions: Mann-Whitney U Test\n",
        "\n",
        "When we want to compare two different samples wheere the data is small and clearly skewed, we can use the Mann-Whitney U Test. In this case, the samples should be considered independent. \n",
        "\n",
        "One such example is if you have two patient groups in a drug trial. One group is given a sugar pill and the other is given painkiller and are asked to report the number of migraines they get per day for five days after. \n",
        "\n",
        "The data is given in the following dataframe. Are they statistically significant?"
      ],
      "metadata": {
        "id": "XrR2tzeOVQd2"
      }
    },
    {
      "cell_type": "code",
      "source": [
        "drug_trial = pd.DataFrame()\n",
        "drug_trial['Sugar_Pill'] = [7,5,6,4,12]\n",
        "drug_trial['Pain_Killer'] = [3,6,4,2,1]\n",
        "drug_trial"
      ],
      "metadata": {
        "colab": {
          "base_uri": "https://localhost:8080/",
          "height": 206
        },
        "id": "BsM9vaNaVP3v",
        "outputId": "2d0f18ad-b125-422e-dfe4-3b8d1578501c"
      },
      "execution_count": null,
      "outputs": [
        {
          "output_type": "execute_result",
          "data": {
            "text/plain": [
              "   Sugar_Pill  Pain_Killer\n",
              "0           7            3\n",
              "1           5            6\n",
              "2           6            4\n",
              "3           4            2\n",
              "4          12            1"
            ],
            "text/html": [
              "\n",
              "  <div id=\"df-46bcc40e-ea3d-41ac-a578-305a47767015\">\n",
              "    <div class=\"colab-df-container\">\n",
              "      <div>\n",
              "<style scoped>\n",
              "    .dataframe tbody tr th:only-of-type {\n",
              "        vertical-align: middle;\n",
              "    }\n",
              "\n",
              "    .dataframe tbody tr th {\n",
              "        vertical-align: top;\n",
              "    }\n",
              "\n",
              "    .dataframe thead th {\n",
              "        text-align: right;\n",
              "    }\n",
              "</style>\n",
              "<table border=\"1\" class=\"dataframe\">\n",
              "  <thead>\n",
              "    <tr style=\"text-align: right;\">\n",
              "      <th></th>\n",
              "      <th>Sugar_Pill</th>\n",
              "      <th>Pain_Killer</th>\n",
              "    </tr>\n",
              "  </thead>\n",
              "  <tbody>\n",
              "    <tr>\n",
              "      <th>0</th>\n",
              "      <td>7</td>\n",
              "      <td>3</td>\n",
              "    </tr>\n",
              "    <tr>\n",
              "      <th>1</th>\n",
              "      <td>5</td>\n",
              "      <td>6</td>\n",
              "    </tr>\n",
              "    <tr>\n",
              "      <th>2</th>\n",
              "      <td>6</td>\n",
              "      <td>4</td>\n",
              "    </tr>\n",
              "    <tr>\n",
              "      <th>3</th>\n",
              "      <td>4</td>\n",
              "      <td>2</td>\n",
              "    </tr>\n",
              "    <tr>\n",
              "      <th>4</th>\n",
              "      <td>12</td>\n",
              "      <td>1</td>\n",
              "    </tr>\n",
              "  </tbody>\n",
              "</table>\n",
              "</div>\n",
              "      <button class=\"colab-df-convert\" onclick=\"convertToInteractive('df-46bcc40e-ea3d-41ac-a578-305a47767015')\"\n",
              "              title=\"Convert this dataframe to an interactive table.\"\n",
              "              style=\"display:none;\">\n",
              "        \n",
              "  <svg xmlns=\"http://www.w3.org/2000/svg\" height=\"24px\"viewBox=\"0 0 24 24\"\n",
              "       width=\"24px\">\n",
              "    <path d=\"M0 0h24v24H0V0z\" fill=\"none\"/>\n",
              "    <path d=\"M18.56 5.44l.94 2.06.94-2.06 2.06-.94-2.06-.94-.94-2.06-.94 2.06-2.06.94zm-11 1L8.5 8.5l.94-2.06 2.06-.94-2.06-.94L8.5 2.5l-.94 2.06-2.06.94zm10 10l.94 2.06.94-2.06 2.06-.94-2.06-.94-.94-2.06-.94 2.06-2.06.94z\"/><path d=\"M17.41 7.96l-1.37-1.37c-.4-.4-.92-.59-1.43-.59-.52 0-1.04.2-1.43.59L10.3 9.45l-7.72 7.72c-.78.78-.78 2.05 0 2.83L4 21.41c.39.39.9.59 1.41.59.51 0 1.02-.2 1.41-.59l7.78-7.78 2.81-2.81c.8-.78.8-2.07 0-2.86zM5.41 20L4 18.59l7.72-7.72 1.47 1.35L5.41 20z\"/>\n",
              "  </svg>\n",
              "      </button>\n",
              "      \n",
              "  <style>\n",
              "    .colab-df-container {\n",
              "      display:flex;\n",
              "      flex-wrap:wrap;\n",
              "      gap: 12px;\n",
              "    }\n",
              "\n",
              "    .colab-df-convert {\n",
              "      background-color: #E8F0FE;\n",
              "      border: none;\n",
              "      border-radius: 50%;\n",
              "      cursor: pointer;\n",
              "      display: none;\n",
              "      fill: #1967D2;\n",
              "      height: 32px;\n",
              "      padding: 0 0 0 0;\n",
              "      width: 32px;\n",
              "    }\n",
              "\n",
              "    .colab-df-convert:hover {\n",
              "      background-color: #E2EBFA;\n",
              "      box-shadow: 0px 1px 2px rgba(60, 64, 67, 0.3), 0px 1px 3px 1px rgba(60, 64, 67, 0.15);\n",
              "      fill: #174EA6;\n",
              "    }\n",
              "\n",
              "    [theme=dark] .colab-df-convert {\n",
              "      background-color: #3B4455;\n",
              "      fill: #D2E3FC;\n",
              "    }\n",
              "\n",
              "    [theme=dark] .colab-df-convert:hover {\n",
              "      background-color: #434B5C;\n",
              "      box-shadow: 0px 1px 3px 1px rgba(0, 0, 0, 0.15);\n",
              "      filter: drop-shadow(0px 1px 2px rgba(0, 0, 0, 0.3));\n",
              "      fill: #FFFFFF;\n",
              "    }\n",
              "  </style>\n",
              "\n",
              "      <script>\n",
              "        const buttonEl =\n",
              "          document.querySelector('#df-46bcc40e-ea3d-41ac-a578-305a47767015 button.colab-df-convert');\n",
              "        buttonEl.style.display =\n",
              "          google.colab.kernel.accessAllowed ? 'block' : 'none';\n",
              "\n",
              "        async function convertToInteractive(key) {\n",
              "          const element = document.querySelector('#df-46bcc40e-ea3d-41ac-a578-305a47767015');\n",
              "          const dataTable =\n",
              "            await google.colab.kernel.invokeFunction('convertToInteractive',\n",
              "                                                     [key], {});\n",
              "          if (!dataTable) return;\n",
              "\n",
              "          const docLinkHtml = 'Like what you see? Visit the ' +\n",
              "            '<a target=\"_blank\" href=https://colab.research.google.com/notebooks/data_table.ipynb>data table notebook</a>'\n",
              "            + ' to learn more about interactive tables.';\n",
              "          element.innerHTML = '';\n",
              "          dataTable['output_type'] = 'display_data';\n",
              "          await google.colab.output.renderOutput(dataTable, element);\n",
              "          const docLink = document.createElement('div');\n",
              "          docLink.innerHTML = docLinkHtml;\n",
              "          element.appendChild(docLink);\n",
              "        }\n",
              "      </script>\n",
              "    </div>\n",
              "  </div>\n",
              "  "
            ]
          },
          "metadata": {},
          "execution_count": 11
        }
      ]
    },
    {
      "cell_type": "code",
      "source": [
        "plt.hist(drug_trial['Sugar_Pill'])"
      ],
      "metadata": {
        "colab": {
          "base_uri": "https://localhost:8080/",
          "height": 317
        },
        "id": "h82Q8b9EDeX7",
        "outputId": "83cc943e-0e15-4d59-d66b-47449c441327"
      },
      "execution_count": null,
      "outputs": [
        {
          "output_type": "execute_result",
          "data": {
            "text/plain": [
              "(array([1., 1., 1., 1., 0., 0., 0., 0., 0., 1.]),\n",
              " array([ 4. ,  4.8,  5.6,  6.4,  7.2,  8. ,  8.8,  9.6, 10.4, 11.2, 12. ]),\n",
              " <a list of 10 Patch objects>)"
            ]
          },
          "metadata": {},
          "execution_count": 13
        },
        {
          "output_type": "display_data",
          "data": {
            "text/plain": [
              "<Figure size 432x288 with 1 Axes>"
            ],
            "image/png": "[encoded data removed]"
          },
          "metadata": {
            "needs_background": "light"
          }
        }
      ]
    },
    {
      "cell_type": "code",
      "source": [
        "plt.hist(drug_trial['Pain_Killer'])"
      ],
      "metadata": {
        "colab": {
          "base_uri": "https://localhost:8080/",
          "height": 317
        },
        "id": "cth5eo34EJh5",
        "outputId": "a7b6282a-36cd-44a1-a23f-ed5a24ebad40"
      },
      "execution_count": null,
      "outputs": [
        {
          "output_type": "execute_result",
          "data": {
            "text/plain": [
              "(array([1., 0., 1., 0., 1., 0., 1., 0., 0., 1.]),\n",
              " array([1. , 1.5, 2. , 2.5, 3. , 3.5, 4. , 4.5, 5. , 5.5, 6. ]),\n",
              " <a list of 10 Patch objects>)"
            ]
          },
          "metadata": {},
          "execution_count": 14
        },
        {
          "output_type": "display_data",
          "data": {
            "text/plain": [
              "<Figure size 432x288 with 1 Axes>"
            ],
            "image/png": "[encoded data removed]"
          },
          "metadata": {
            "needs_background": "light"
          }
        }
      ]
    },
    {
      "cell_type": "code",
      "source": [
        "from scipy.stats import mannwhitneyu"
      ],
      "metadata": {
        "id": "cRMVDdfCgg2j"
      },
      "execution_count": null,
      "outputs": []
    },
    {
      "cell_type": "code",
      "source": [
        "mannwhitneyu(drug_trial['Sugar_Pill'], drug_trial['Pain_Killer'])"
      ],
      "metadata": {
        "colab": {
          "base_uri": "https://localhost:8080/"
        },
        "id": "UJnnzXyJgmo4",
        "outputId": "b6fe9185-8820-4718-b30e-d984784492b7"
      },
      "execution_count": null,
      "outputs": [
        {
          "output_type": "execute_result",
          "data": {
            "text/plain": [
              "MannwhitneyuResult(statistic=22.0, pvalue=0.05855263015682658)"
            ]
          },
          "metadata": {},
          "execution_count": 12
        }
      ]
    },
    {
      "cell_type": "markdown",
      "source": [
        "#Paired Skewed Data Distributions: Wilcoxon Matched Pairs Signed-Rank\n",
        "\n",
        "I may sound like a broken record but another common use of paired statistics is clinical trials. For clinical trails where the number of patients might be small. \n",
        "\n",
        "In this case, instead of looking at two seperate groups, we are looking at one group before and after treatment. Lets look at a set of patients before and after heart medication. We have paired samples since this is the same sample before and after. We also have skewed distribution. \n",
        "\n",
        "For this test, we need to also subtract the before and after. "
      ],
      "metadata": {
        "id": "ckTJEskUVp4M"
      }
    },
    {
      "cell_type": "code",
      "source": [
        "heart = pd.DataFrame()\n",
        "heart['patient'] = ['Patient1', 'Patient2', 'Patient3', 'Patient4', 'Patient5', 'Patient6', 'Patient7', 'Patient8']\n",
        "heart['Before'] = [85, 70, 40, 65, 80, 75, 55, 20]\n",
        "heart['After'] = [75, 50, 50, 40, 20, 65, 40, 25]\n",
        "heart['Minus'] = heart['Before']  - heart['After']\n",
        "heart"
      ],
      "metadata": {
        "colab": {
          "base_uri": "https://localhost:8080/",
          "height": 300
        },
        "id": "EX08Zu4TVtkX",
        "outputId": "fa049192-2714-4c4f-f94c-fda5b15851b6"
      },
      "execution_count": null,
      "outputs": [
        {
          "output_type": "execute_result",
          "data": {
            "text/plain": [
              "    patient  Before  After  Minus\n",
              "0  Patient1      85     75     10\n",
              "1  Patient2      70     50     20\n",
              "2  Patient3      40     50    -10\n",
              "3  Patient4      65     40     25\n",
              "4  Patient5      80     20     60\n",
              "5  Patient6      75     65     10\n",
              "6  Patient7      55     40     15\n",
              "7  Patient8      20     25     -5"
            ],
            "text/html": [
              "\n",
              "  <div id=\"df-318dfd63-aad2-462a-9a0c-83a31ce3dc3f\">\n",
              "    <div class=\"colab-df-container\">\n",
              "      <div>\n",
              "<style scoped>\n",
              "    .dataframe tbody tr th:only-of-type {\n",
              "        vertical-align: middle;\n",
              "    }\n",
              "\n",
              "    .dataframe tbody tr th {\n",
              "        vertical-align: top;\n",
              "    }\n",
              "\n",
              "    .dataframe thead th {\n",
              "        text-align: right;\n",
              "    }\n",
              "</style>\n",
              "<table border=\"1\" class=\"dataframe\">\n",
              "  <thead>\n",
              "    <tr style=\"text-align: right;\">\n",
              "      <th></th>\n",
              "      <th>patient</th>\n",
              "      <th>Before</th>\n",
              "      <th>After</th>\n",
              "      <th>Minus</th>\n",
              "    </tr>\n",
              "  </thead>\n",
              "  <tbody>\n",
              "    <tr>\n",
              "      <th>0</th>\n",
              "      <td>Patient1</td>\n",
              "      <td>85</td>\n",
              "      <td>75</td>\n",
              "      <td>10</td>\n",
              "    </tr>\n",
              "    <tr>\n",
              "      <th>1</th>\n",
              "      <td>Patient2</td>\n",
              "      <td>70</td>\n",
              "      <td>50</td>\n",
              "      <td>20</td>\n",
              "    </tr>\n",
              "    <tr>\n",
              "      <th>2</th>\n",
              "      <td>Patient3</td>\n",
              "      <td>40</td>\n",
              "      <td>50</td>\n",
              "      <td>-10</td>\n",
              "    </tr>\n",
              "    <tr>\n",
              "      <th>3</th>\n",
              "      <td>Patient4</td>\n",
              "      <td>65</td>\n",
              "      <td>40</td>\n",
              "      <td>25</td>\n",
              "    </tr>\n",
              "    <tr>\n",
              "      <th>4</th>\n",
              "      <td>Patient5</td>\n",
              "      <td>80</td>\n",
              "      <td>20</td>\n",
              "      <td>60</td>\n",
              "    </tr>\n",
              "    <tr>\n",
              "      <th>5</th>\n",
              "      <td>Patient6</td>\n",
              "      <td>75</td>\n",
              "      <td>65</td>\n",
              "      <td>10</td>\n",
              "    </tr>\n",
              "    <tr>\n",
              "      <th>6</th>\n",
              "      <td>Patient7</td>\n",
              "      <td>55</td>\n",
              "      <td>40</td>\n",
              "      <td>15</td>\n",
              "    </tr>\n",
              "    <tr>\n",
              "      <th>7</th>\n",
              "      <td>Patient8</td>\n",
              "      <td>20</td>\n",
              "      <td>25</td>\n",
              "      <td>-5</td>\n",
              "    </tr>\n",
              "  </tbody>\n",
              "</table>\n",
              "</div>\n",
              "      <button class=\"colab-df-convert\" onclick=\"convertToInteractive('df-318dfd63-aad2-462a-9a0c-83a31ce3dc3f')\"\n",
              "              title=\"Convert this dataframe to an interactive table.\"\n",
              "              style=\"display:none;\">\n",
              "        \n",
              "  <svg xmlns=\"http://www.w3.org/2000/svg\" height=\"24px\"viewBox=\"0 0 24 24\"\n",
              "       width=\"24px\">\n",
              "    <path d=\"M0 0h24v24H0V0z\" fill=\"none\"/>\n",
              "    <path d=\"M18.56 5.44l.94 2.06.94-2.06 2.06-.94-2.06-.94-.94-2.06-.94 2.06-2.06.94zm-11 1L8.5 8.5l.94-2.06 2.06-.94-2.06-.94L8.5 2.5l-.94 2.06-2.06.94zm10 10l.94 2.06.94-2.06 2.06-.94-2.06-.94-.94-2.06-.94 2.06-2.06.94z\"/><path d=\"M17.41 7.96l-1.37-1.37c-.4-.4-.92-.59-1.43-.59-.52 0-1.04.2-1.43.59L10.3 9.45l-7.72 7.72c-.78.78-.78 2.05 0 2.83L4 21.41c.39.39.9.59 1.41.59.51 0 1.02-.2 1.41-.59l7.78-7.78 2.81-2.81c.8-.78.8-2.07 0-2.86zM5.41 20L4 18.59l7.72-7.72 1.47 1.35L5.41 20z\"/>\n",
              "  </svg>\n",
              "      </button>\n",
              "      \n",
              "  <style>\n",
              "    .colab-df-container {\n",
              "      display:flex;\n",
              "      flex-wrap:wrap;\n",
              "      gap: 12px;\n",
              "    }\n",
              "\n",
              "    .colab-df-convert {\n",
              "      background-color: #E8F0FE;\n",
              "      border: none;\n",
              "      border-radius: 50%;\n",
              "      cursor: pointer;\n",
              "      display: none;\n",
              "      fill: #1967D2;\n",
              "      height: 32px;\n",
              "      padding: 0 0 0 0;\n",
              "      width: 32px;\n",
              "    }\n",
              "\n",
              "    .colab-df-convert:hover {\n",
              "      background-color: #E2EBFA;\n",
              "      box-shadow: 0px 1px 2px rgba(60, 64, 67, 0.3), 0px 1px 3px 1px rgba(60, 64, 67, 0.15);\n",
              "      fill: #174EA6;\n",
              "    }\n",
              "\n",
              "    [theme=dark] .colab-df-convert {\n",
              "      background-color: #3B4455;\n",
              "      fill: #D2E3FC;\n",
              "    }\n",
              "\n",
              "    [theme=dark] .colab-df-convert:hover {\n",
              "      background-color: #434B5C;\n",
              "      box-shadow: 0px 1px 3px 1px rgba(0, 0, 0, 0.15);\n",
              "      filter: drop-shadow(0px 1px 2px rgba(0, 0, 0, 0.3));\n",
              "      fill: #FFFFFF;\n",
              "    }\n",
              "  </style>\n",
              "\n",
              "      <script>\n",
              "        const buttonEl =\n",
              "          document.querySelector('#df-318dfd63-aad2-462a-9a0c-83a31ce3dc3f button.colab-df-convert');\n",
              "        buttonEl.style.display =\n",
              "          google.colab.kernel.accessAllowed ? 'block' : 'none';\n",
              "\n",
              "        async function convertToInteractive(key) {\n",
              "          const element = document.querySelector('#df-318dfd63-aad2-462a-9a0c-83a31ce3dc3f');\n",
              "          const dataTable =\n",
              "            await google.colab.kernel.invokeFunction('convertToInteractive',\n",
              "                                                     [key], {});\n",
              "          if (!dataTable) return;\n",
              "\n",
              "          const docLinkHtml = 'Like what you see? Visit the ' +\n",
              "            '<a target=\"_blank\" href=https://colab.research.google.com/notebooks/data_table.ipynb>data table notebook</a>'\n",
              "            + ' to learn more about interactive tables.';\n",
              "          element.innerHTML = '';\n",
              "          dataTable['output_type'] = 'display_data';\n",
              "          await google.colab.output.renderOutput(dataTable, element);\n",
              "          const docLink = document.createElement('div');\n",
              "          docLink.innerHTML = docLinkHtml;\n",
              "          element.appendChild(docLink);\n",
              "        }\n",
              "      </script>\n",
              "    </div>\n",
              "  </div>\n",
              "  "
            ]
          },
          "metadata": {},
          "execution_count": 16
        }
      ]
    },
    {
      "cell_type": "markdown",
      "source": [
        "Once we have a set of differences between all the datasets, we can just run wilcoxon on the series of data containing ot"
      ],
      "metadata": {
        "id": "ypF0RWZoEV5N"
      }
    },
    {
      "cell_type": "code",
      "source": [
        "from scipy.stats import wilcoxon\n",
        "wilcoxon(heart['Minus'])"
      ],
      "metadata": {
        "colab": {
          "base_uri": "https://localhost:8080/"
        },
        "id": "MKn5-ow_lNpk",
        "outputId": "ec757440-a6fc-47c4-894a-df3301c4c11c"
      },
      "execution_count": null,
      "outputs": [
        {
          "output_type": "execute_result",
          "data": {
            "text/plain": [
              "WilcoxonResult(statistic=4.0, pvalue=0.0546875)"
            ]
          },
          "metadata": {},
          "execution_count": 17
        }
      ]
    },
    {
      "cell_type": "markdown",
      "source": [
        "#More than two Skewed Data Distributions: non parametric ANOVA\n",
        "\n",
        "If we are dealing with more than 2 samples, we need ot use a non-parametric ANOVA (sometimes called a Kruskal-Wallis Test).\n",
        "\n",
        "Lets say we are testing three types of protein powder and want to observe blood protein levels after consumption. Are they different?\n",
        "\n"
      ],
      "metadata": {
        "id": "5ueu0G5bVt3R"
      }
    },
    {
      "cell_type": "code",
      "source": [
        "protein1 = [3.1, 2.6, 2.9]\n",
        "protein2 = [3.8, 4.1, 2.9, 3.4, 4.2]\n",
        "protein3 = [4, 5.5, 5, 4.8]"
      ],
      "metadata": {
        "id": "D0BOf0mtnRsS"
      },
      "execution_count": null,
      "outputs": []
    },
    {
      "cell_type": "code",
      "source": [
        "stats.kruskal(protein1, protein2, protein3)"
      ],
      "metadata": {
        "colab": {
          "base_uri": "https://localhost:8080/"
        },
        "id": "QyW1wQ17nkT0",
        "outputId": "0f6d633f-e8a3-4470-96bb-2c78c422c210"
      },
      "execution_count": null,
      "outputs": [
        {
          "output_type": "execute_result",
          "data": {
            "text/plain": [
              "KruskalResult(statistic=7.549473684210525, pvalue=0.02294312751270393)"
            ]
          },
          "metadata": {},
          "execution_count": 141
        }
      ]
    },
    {
      "cell_type": "markdown",
      "source": [
        "Data Visualization:\n",
        "\n",
        "One of the most important aspects of data science is data visualization!\n",
        "\n",
        "The two libraries we will need for data visualization is \n",
        "  A. Matplotlib\n",
        "  B. Seaborn\n",
        "\n",
        "I personally prefer Matplotlib so I will be following mostly with matplotlib."
      ],
      "metadata": {
        "id": "qy5TDnkYypPS"
      }
    },
    {
      "cell_type": "code",
      "source": [
        "import matplotlib.pyplot as plt\n"
      ],
      "metadata": {
        "id": "VjIwNSv9zq8N"
      },
      "execution_count": null,
      "outputs": []
    },
    {
      "cell_type": "markdown",
      "source": [
        "#Subplot \n",
        "\n",
        "The first thing we have to do is to set up our \"space\"\n",
        "\n",
        "We do this with the subplots command. You can determine the number of rows and columns. "
      ],
      "metadata": {
        "id": "ostWbBg7zF50"
      }
    },
    {
      "cell_type": "code",
      "source": [
        "plt.subplots(1,2)"
      ],
      "metadata": {
        "id": "3gtQkQzPyogv",
        "colab": {
          "base_uri": "https://localhost:8080/",
          "height": 338
        },
        "outputId": "07f2acfb-2033-4f50-8db1-193cfcc67b1c"
      },
      "execution_count": null,
      "outputs": [
        {
          "output_type": "execute_result",
          "data": {
            "text/plain": [
              "(<Figure size 432x288 with 2 Axes>,\n",
              " array([<matplotlib.axes._subplots.AxesSubplot object at 0x7feb2b166b50>,\n",
              "        <matplotlib.axes._subplots.AxesSubplot object at 0x7feb2b188350>],\n",
              "       dtype=object))"
            ]
          },
          "metadata": {},
          "execution_count": 19
        },
        {
          "output_type": "display_data",
          "data": {
            "text/plain": [
              "<Figure size 432x288 with 2 Axes>"
            ],
            "image/png": "[encoded data removed]"
          },
          "metadata": {
            "needs_background": "light"
          }
        }
      ]
    },
    {
      "cell_type": "markdown",
      "source": [
        "#Add Axes\n",
        "\n",
        "\n",
        "You can also insert axes."
      ],
      "metadata": {
        "id": "6S04HrhWOspt"
      }
    },
    {
      "cell_type": "code",
      "source": [
        "plt.xlabel('x-axis')\n"
      ],
      "metadata": {
        "colab": {
          "base_uri": "https://localhost:8080/",
          "height": 300
        },
        "id": "Tu6fVZlfOr-_",
        "outputId": "6f516071-593e-44d5-e6e1-368cd0213bf0"
      },
      "execution_count": null,
      "outputs": [
        {
          "output_type": "execute_result",
          "data": {
            "text/plain": [
              "Text(0.5, 0, 'x-axis')"
            ]
          },
          "metadata": {},
          "execution_count": 20
        },
        {
          "output_type": "display_data",
          "data": {
            "text/plain": [
              "<Figure size 432x288 with 1 Axes>"
            ],
            "image/png": "[encoded data removed]"
          },
          "metadata": {
            "needs_background": "light"
          }
        }
      ]
    },
    {
      "cell_type": "code",
      "source": [
        "plt.ylabel('y-axis')"
      ],
      "metadata": {
        "colab": {
          "base_uri": "https://localhost:8080/",
          "height": 286
        },
        "id": "z5qv0Bu-O6E-",
        "outputId": "67a2b52a-12f6-43fe-b310-5231d33d6204"
      },
      "execution_count": null,
      "outputs": [
        {
          "output_type": "execute_result",
          "data": {
            "text/plain": [
              "Text(0, 0.5, 'y-axis')"
            ]
          },
          "metadata": {},
          "execution_count": 39
        },
        {
          "output_type": "display_data",
          "data": {
            "text/plain": [
              "<Figure size 432x288 with 1 Axes>"
            ],
            "image/png": "[encoded data removed]"
          },
          "metadata": {
            "needs_background": "light"
          }
        }
      ]
    },
    {
      "cell_type": "markdown",
      "source": [
        "#Add Title\n",
        "\n"
      ],
      "metadata": {
        "id": "vPZNlleBPEGH"
      }
    },
    {
      "cell_type": "code",
      "source": [
        "plt.title('Figure Title')"
      ],
      "metadata": {
        "colab": {
          "base_uri": "https://localhost:8080/",
          "height": 298
        },
        "id": "XyYjH8kNPFgA",
        "outputId": "7d31d406-4425-499e-c4b4-7ee176aafced"
      },
      "execution_count": null,
      "outputs": [
        {
          "output_type": "execute_result",
          "data": {
            "text/plain": [
              "Text(0.5, 1.0, 'Figure Title')"
            ]
          },
          "metadata": {},
          "execution_count": 40
        },
        {
          "output_type": "display_data",
          "data": {
            "text/plain": [
              "<Figure size 432x288 with 1 Axes>"
            ],
            "image/png": "[encoded data removed]"
          },
          "metadata": {
            "needs_background": "light"
          }
        }
      ]
    },
    {
      "cell_type": "markdown",
      "source": [
        "#Scale"
      ],
      "metadata": {
        "id": "eSUGyqIb090E"
      }
    },
    {
      "cell_type": "markdown",
      "source": [
        "# We can set the x axis size and y axis size."
      ],
      "metadata": {
        "id": "Sz5hAlhEWnP9"
      }
    },
    {
      "cell_type": "code",
      "source": [
        "plt.xlim(0,10)\n",
        "plt.ylim(0,10)"
      ],
      "metadata": {
        "id": "UBXcLdeli4AN",
        "colab": {
          "base_uri": "https://localhost:8080/",
          "height": 286
        },
        "outputId": "8fae25d5-6336-4643-e413-fb12851bfd4b"
      },
      "execution_count": null,
      "outputs": [
        {
          "output_type": "execute_result",
          "data": {
            "text/plain": [
              "(0.0, 10.0)"
            ]
          },
          "metadata": {},
          "execution_count": 70
        },
        {
          "output_type": "display_data",
          "data": {
            "text/plain": [
              "<Figure size 432x288 with 1 Axes>"
            ],
            "image/png": "[encoded data removed]"
          },
          "metadata": {
            "needs_background": "light"
          }
        }
      ]
    },
    {
      "cell_type": "markdown",
      "source": [
        "We are going to go through some basic ways to plot data in python.\n",
        "Some Basic Plots include\n",
        "\n",
        "A. Bar Charts\n",
        "B. Scatterplots\n",
        "C. Line Plot"
      ],
      "metadata": {
        "id": "tjoKeYGS0hPK"
      }
    },
    {
      "cell_type": "code",
      "source": [
        "fig, ax = plt.subplots()\n",
        "x_ticks = [3,6,9]\n",
        "y_ticks = [3,6,9]\n",
        "ax.set_xticks(x_ticks)"
      ],
      "metadata": {
        "colab": {
          "base_uri": "https://localhost:8080/",
          "height": 321
        },
        "id": "Q3UbnIqBpz5Q",
        "outputId": "35daa143-cd6d-4d47-e820-a4d67b108fd5"
      },
      "execution_count": null,
      "outputs": [
        {
          "output_type": "execute_result",
          "data": {
            "text/plain": [
              "[<matplotlib.axis.XTick at 0x7feb2a56f350>,\n",
              " <matplotlib.axis.XTick at 0x7feb2a485d50>,\n",
              " <matplotlib.axis.XTick at 0x7feb2a414fd0>]"
            ]
          },
          "metadata": {},
          "execution_count": 22
        },
        {
          "output_type": "display_data",
          "data": {
            "text/plain": [
              "<Figure size 432x288 with 1 Axes>"
            ],
            "image/png": "[encoded data removed]"
          },
          "metadata": {
            "needs_background": "light"
          }
        }
      ]
    },
    {
      "cell_type": "markdown",
      "source": [
        "# Bar Chart\n",
        "A Bar chart has two elements, an x axis and a y axis. \n",
        "\n",
        "On the x axis are different groups of data. On the y axis is where you plot you data."
      ],
      "metadata": {
        "id": "2vpzkoshS7BI"
      }
    },
    {
      "cell_type": "code",
      "source": [
        "bar1 = np.random.normal(50, 1, 200)\n",
        "bar2 = np.random.normal(60, 1, 200)\n",
        "bar3 = np.random.normal(70, 1, 200)\n",
        "\n",
        "names = ['bar1', 'bar2', 'bar3']\n",
        "data = [50, 60, 70]"
      ],
      "metadata": {
        "id": "VVJnP0TXS6yv"
      },
      "execution_count": null,
      "outputs": []
    },
    {
      "cell_type": "code",
      "source": [
        "plt.bar(names, data)\n"
      ],
      "metadata": {
        "id": "KMMiczuT0g2V",
        "colab": {
          "base_uri": "https://localhost:8080/",
          "height": 282
        },
        "outputId": "9a5b8d56-2b47-4f20-9d7d-c333109cb59a"
      },
      "execution_count": null,
      "outputs": [
        {
          "output_type": "execute_result",
          "data": {
            "text/plain": [
              "<BarContainer object of 3 artists>"
            ]
          },
          "metadata": {},
          "execution_count": 13
        },
        {
          "output_type": "display_data",
          "data": {
            "text/plain": [
              "<Figure size 432x288 with 1 Axes>"
            ],
            "image/png": "[encoded data removed]"
          },
          "metadata": {
            "needs_background": "light"
          }
        }
      ]
    },
    {
      "cell_type": "markdown",
      "source": [
        "# We can draw a line plot.\n",
        "\n",
        "A line plot is a depiction of the relationship between two different variables."
      ],
      "metadata": {
        "id": "tkOegdD_UNa5"
      }
    },
    {
      "cell_type": "code",
      "source": [
        "data_x = np.linspace(0,100, 10)\n",
        "data_y = np.linspace(0,100,10)\n",
        "plt.plot(data_x, data_y)"
      ],
      "metadata": {
        "colab": {
          "base_uri": "https://localhost:8080/",
          "height": 282
        },
        "id": "Z1CpsGDFULDt",
        "outputId": "40259cdf-b02e-4101-f437-1ebd38e20e83"
      },
      "execution_count": null,
      "outputs": [
        {
          "output_type": "execute_result",
          "data": {
            "text/plain": [
              "[<matplotlib.lines.Line2D at 0x7fc2823ee1d0>]"
            ]
          },
          "metadata": {},
          "execution_count": 63
        },
        {
          "output_type": "display_data",
          "data": {
            "text/plain": [
              "<Figure size 432x288 with 1 Axes>"
            ],
            "image/png": "[encoded data removed]"
          },
          "metadata": {
            "needs_background": "light"
          }
        }
      ]
    },
    {
      "cell_type": "markdown",
      "source": [
        "#Scatter Plot\n",
        "\n",
        "A Scatterplot is similar to a line graph but it does not attempt to show the relationship between two varibales."
      ],
      "metadata": {
        "id": "1SWss9fmOO_Y"
      }
    },
    {
      "cell_type": "code",
      "source": [
        "data_x = np.linspace(0,100, 10)\n",
        "data_y = np.linspace(0,100,10)\n",
        "plt.scatter(data_x, data_y)\n"
      ],
      "metadata": {
        "colab": {
          "base_uri": "https://localhost:8080/",
          "height": 282
        },
        "id": "S8D8p0HJRGqg",
        "outputId": "3d9058ce-60ea-49fa-c981-e1c6cdec3bb3"
      },
      "execution_count": null,
      "outputs": [
        {
          "output_type": "execute_result",
          "data": {
            "text/plain": [
              "<matplotlib.collections.PathCollection at 0x7fc282880150>"
            ]
          },
          "metadata": {},
          "execution_count": 49
        },
        {
          "output_type": "display_data",
          "data": {
            "text/plain": [
              "<Figure size 432x288 with 1 Axes>"
            ],
            "image/png": "[encoded data removed]"
          },
          "metadata": {
            "needs_background": "light"
          }
        }
      ]
    },
    {
      "cell_type": "markdown",
      "source": [
        "#Drawing Lines in Figures\n",
        "\n",
        "axhline = horizontal line\n",
        "axvline = vertical line\n",
        "grid creates a grid pattern on your figure"
      ],
      "metadata": {
        "id": "k7fERxV7SgCc"
      }
    },
    {
      "cell_type": "code",
      "source": [
        "\n",
        "data_x = np.linspace(0,100, 10)\n",
        "data_y = np.linspace(0,100,10)\n",
        "plt.scatter(data_x, data_y)\n",
        "plt.axhline(y=50)\n",
        "plt.axvline(x=50)\n",
        "plt.title('Scatter')\n",
        "\n"
      ],
      "metadata": {
        "colab": {
          "base_uri": "https://localhost:8080/",
          "height": 298
        },
        "id": "3bF1wlBJSNgh",
        "outputId": "713926ae-bc18-4c55-de3e-1bd3be56fa51"
      },
      "execution_count": null,
      "outputs": [
        {
          "output_type": "execute_result",
          "data": {
            "text/plain": [
              "Text(0.5, 1.0, 'Scatter')"
            ]
          },
          "metadata": {},
          "execution_count": 24
        },
        {
          "output_type": "display_data",
          "data": {
            "text/plain": [
              "<Figure size 432x288 with 1 Axes>"
            ],
            "image/png": "[encoded data removed]"
          },
          "metadata": {
            "needs_background": "light"
          }
        }
      ]
    },
    {
      "cell_type": "code",
      "source": [
        "plt.grid('True')\n",
        "data_x = np.linspace(0,100, 10)\n",
        "data_y = np.linspace(0,100,10)\n",
        "plt.scatter(data_x, data_y)\n",
        "plt.axhline(y=50)\n",
        "plt.axvline(x=50)\n",
        "plt.title('Scatter')"
      ],
      "metadata": {
        "colab": {
          "base_uri": "https://localhost:8080/",
          "height": 298
        },
        "id": "ds-mrP2818FM",
        "outputId": "5a19090d-2732-498f-dff7-40cc52870495"
      },
      "execution_count": null,
      "outputs": [
        {
          "output_type": "execute_result",
          "data": {
            "text/plain": [
              "Text(0.5, 1.0, 'Scatter')"
            ]
          },
          "metadata": {},
          "execution_count": 26
        },
        {
          "output_type": "display_data",
          "data": {
            "text/plain": [
              "<Figure size 432x288 with 1 Axes>"
            ],
            "image/png": "[encoded data removed]"
          },
          "metadata": {
            "needs_background": "light"
          }
        }
      ]
    },
    {
      "cell_type": "markdown",
      "source": [
        "#Saving a Figure\n",
        "\n",
        "Sometimes you find that you visualize your data exactly the way you want to and want to export it for use in a presentation or report. Google Collab allows you to save your figures with the following command."
      ],
      "metadata": {
        "id": "EsQVs2XK06pl"
      }
    },
    {
      "cell_type": "code",
      "source": [
        "data_x = np.linspace(0,100, 10)\n",
        "data_y = np.linspace(0,100,10)\n",
        "plt.scatter(data_x, data_y)\n",
        "plt.axhline(y=50)\n",
        "plt.axvline(x=50)\n",
        "plt.savefig('Scatter.jpeg')\n",
        "files.download('Scatter.jpeg')"
      ],
      "metadata": {
        "colab": {
          "base_uri": "https://localhost:8080/",
          "height": 265
        },
        "id": "oE59sFKW1Hzj",
        "outputId": "56e026b1-21c8-4496-f44f-bb708148daf7"
      },
      "execution_count": null,
      "outputs": [
        {
          "output_type": "display_data",
          "data": {
            "text/plain": [
              "<IPython.core.display.Javascript object>"
            ],
            "application/javascript": [
              "\n",
              "    async function download(id, filename, size) {\n",
              "      if (!google.colab.kernel.accessAllowed) {\n",
              "        return;\n",
              "      }\n",
              "      const div = document.createElement('div');\n",
              "      const label = document.createElement('label');\n",
              "      label.textContent = `Downloading \"${filename}\": `;\n",
              "      div.appendChild(label);\n",
              "      const progress = document.createElement('progress');\n",
              "      progress.max = size;\n",
              "      div.appendChild(progress);\n",
              "      document.body.appendChild(div);\n",
              "\n",
              "      const buffers = [];\n",
              "      let downloaded = 0;\n",
              "\n",
              "      const channel = await google.colab.kernel.comms.open(id);\n",
              "      // Send a message to notify the kernel that we're ready.\n",
              "      channel.send({})\n",
              "\n",
              "      for await (const message of channel.messages) {\n",
              "        // Send a message to notify the kernel that we're ready.\n",
              "        channel.send({})\n",
              "        if (message.buffers) {\n",
              "          for (const buffer of message.buffers) {\n",
              "            buffers.push(buffer);\n",
              "            downloaded += buffer.byteLength;\n",
              "            progress.value = downloaded;\n",
              "          }\n",
              "        }\n",
              "      }\n",
              "      const blob = new Blob(buffers, {type: 'application/binary'});\n",
              "      const a = document.createElement('a');\n",
              "      a.href = window.URL.createObjectURL(blob);\n",
              "      a.download = filename;\n",
              "      div.appendChild(a);\n",
              "      a.click();\n",
              "      div.remove();\n",
              "    }\n",
              "  "
            ]
          },
          "metadata": {}
        },
        {
          "output_type": "display_data",
          "data": {
            "text/plain": [
              "<IPython.core.display.Javascript object>"
            ],
            "application/javascript": [
              "download(\"download_6f0ba194-c594-4d4e-8a19-6e3d91539ec7\", \"Scatter.jpeg\", 12776)"
            ]
          },
          "metadata": {}
        },
        {
          "output_type": "display_data",
          "data": {
            "text/plain": [
              "<Figure size 432x288 with 1 Axes>"
            ],
            "image/png": "[encoded data removed]"
          },
          "metadata": {
            "needs_background": "light"
          }
        }
      ]
    },
    {
      "cell_type": "markdown",
      "source": [
        "Some More Advanced Plots Include \n",
        "\n",
        "A. Boxplot\n",
        "B. Violinplot\n",
        "C. Histogram\n",
        "D. Volcano Plots"
      ],
      "metadata": {
        "id": "LvmnI0aN0yIQ"
      }
    },
    {
      "cell_type": "markdown",
      "source": [
        "#Boxplot\n",
        "\n",
        "In many ways, a boxplot is a more detailed version of a bar chart. \n",
        "\n",
        "A boxplot shows the the minimum, first quartile, median, third quartile, and maximum of a set of data."
      ],
      "metadata": {
        "id": "JkMI3XZSLaEn"
      }
    },
    {
      "cell_type": "code",
      "source": [
        "box1 = np.random.normal(150, 1, 200)\n",
        "box2 = np.random.normal(130, 1, 200)\n",
        "box3 = np.random.normal(140, 1, 200)"
      ],
      "metadata": {
        "id": "ddAKlQamMrfX"
      },
      "execution_count": null,
      "outputs": []
    },
    {
      "cell_type": "code",
      "source": [
        "plt.boxplot([box1, box2, box3])"
      ],
      "metadata": {
        "colab": {
          "base_uri": "https://localhost:8080/",
          "height": 639
        },
        "id": "KwheAelOMuEu",
        "outputId": "6aaaa6e6-628a-4f15-8138-7f7671284748"
      },
      "execution_count": null,
      "outputs": [
        {
          "output_type": "execute_result",
          "data": {
            "text/plain": [
              "{'whiskers': [<matplotlib.lines.Line2D at 0x7ff3fe40f510>,\n",
              "  <matplotlib.lines.Line2D at 0x7ff3fe40fb90>,\n",
              "  <matplotlib.lines.Line2D at 0x7ff3fe4d3890>,\n",
              "  <matplotlib.lines.Line2D at 0x7ff3fe4cdc10>,\n",
              "  <matplotlib.lines.Line2D at 0x7ff3fe520890>,\n",
              "  <matplotlib.lines.Line2D at 0x7ff3fe520a90>],\n",
              " 'caps': [<matplotlib.lines.Line2D at 0x7ff3fe40fd50>,\n",
              "  <matplotlib.lines.Line2D at 0x7ff3fe44d990>,\n",
              "  <matplotlib.lines.Line2D at 0x7ff3fe4cde10>,\n",
              "  <matplotlib.lines.Line2D at 0x7ff3fe4b5a10>,\n",
              "  <matplotlib.lines.Line2D at 0x7ff3fe475e10>,\n",
              "  <matplotlib.lines.Line2D at 0x7ff3fe4c5610>],\n",
              " 'boxes': [<matplotlib.lines.Line2D at 0x7ff3fe3d2290>,\n",
              "  <matplotlib.lines.Line2D at 0x7ff3fe4d3e50>,\n",
              "  <matplotlib.lines.Line2D at 0x7ff3fe520390>],\n",
              " 'medians': [<matplotlib.lines.Line2D at 0x7ff3fe44ddd0>,\n",
              "  <matplotlib.lines.Line2D at 0x7ff3fe4b51d0>,\n",
              "  <matplotlib.lines.Line2D at 0x7ff3fe4c5a90>],\n",
              " 'fliers': [<matplotlib.lines.Line2D at 0x7ff3fe4e9c10>,\n",
              "  <matplotlib.lines.Line2D at 0x7ff3fe4b5ad0>,\n",
              "  <matplotlib.lines.Line2D at 0x7ff3fe4c5250>],\n",
              " 'means': []}"
            ]
          },
          "metadata": {},
          "execution_count": 32
        },
        {
          "output_type": "display_data",
          "data": {
            "text/plain": [
              "<Figure size 432x288 with 1 Axes>"
            ],
            "image/png": "[encoded data removed]"
          },
          "metadata": {
            "needs_background": "light"
          }
        }
      ]
    },
    {
      "cell_type": "markdown",
      "source": [
        "#Histograms\n",
        "\n",
        "A histogram is a way to show for one variable the number of times a value appears. \n",
        "\n",
        "The advantage is that it allows you to see the distribution of data. One important variable is bin, how many bars there are, which allows you to decide how much data is clustered. By changing the bin, we cna make the bars narrower or wider.\n",
        "\n",
        "\n"
      ],
      "metadata": {
        "id": "k-tA5b93_xwX"
      }
    },
    {
      "cell_type": "code",
      "source": [
        "array4 = np.random.normal(150, 10, 200)\n",
        "array5 = np.random.normal(180, 10, 200)\n",
        "plt.hist(array4, bins = 5)"
      ],
      "metadata": {
        "id": "jwp8WpGt1PS0",
        "colab": {
          "base_uri": "https://localhost:8080/",
          "height": 334
        },
        "outputId": "d3f78fb9-ed9b-44b3-e309-82c626e57f50"
      },
      "execution_count": null,
      "outputs": [
        {
          "output_type": "execute_result",
          "data": {
            "text/plain": [
              "(array([ 3., 49., 88., 48., 12.]),\n",
              " array([119.95652783, 132.31653829, 144.67654876, 157.03655922,\n",
              "        169.39656969, 181.75658015]),\n",
              " <a list of 5 Patch objects>)"
            ]
          },
          "metadata": {},
          "execution_count": 30
        },
        {
          "output_type": "display_data",
          "data": {
            "text/plain": [
              "<Figure size 432x288 with 1 Axes>"
            ],
            "image/png": "[encoded data removed]"
          },
          "metadata": {
            "needs_background": "light"
          }
        }
      ]
    },
    {
      "cell_type": "code",
      "source": [
        "plt.hist(array4, bins = 10, color = 'red')"
      ],
      "metadata": {
        "colab": {
          "base_uri": "https://localhost:8080/",
          "height": 352
        },
        "id": "r5LngQbiKe_G",
        "outputId": "7c9221a5-4912-4def-d6ce-1f87338b2664"
      },
      "execution_count": null,
      "outputs": [
        {
          "output_type": "execute_result",
          "data": {
            "text/plain": [
              "(array([ 1.,  2., 21., 28., 53., 35., 38., 10., 10.,  2.]),\n",
              " array([119.95652783, 126.13653306, 132.31653829, 138.49654353,\n",
              "        144.67654876, 150.85655399, 157.03655922, 163.21656446,\n",
              "        169.39656969, 175.57657492, 181.75658015]),\n",
              " <a list of 10 Patch objects>)"
            ]
          },
          "metadata": {},
          "execution_count": 69
        },
        {
          "output_type": "display_data",
          "data": {
            "text/plain": [
              "<Figure size 432x288 with 1 Axes>"
            ],
            "image/png": "[encoded data removed]"
          },
          "metadata": {
            "needs_background": "light"
          }
        }
      ]
    },
    {
      "cell_type": "code",
      "source": [
        "plt.hist(array4, bins = 1)"
      ],
      "metadata": {
        "colab": {
          "base_uri": "https://localhost:8080/",
          "height": 317
        },
        "id": "Qt-DEjsTKUN_",
        "outputId": "48091c21-b2df-4a37-8f97-9e4e91d25229"
      },
      "execution_count": null,
      "outputs": [
        {
          "output_type": "execute_result",
          "data": {
            "text/plain": [
              "(array([200.]),\n",
              " array([123.51766639, 173.79838611]),\n",
              " <a list of 1 Patch objects>)"
            ]
          },
          "metadata": {},
          "execution_count": 20
        },
        {
          "output_type": "display_data",
          "data": {
            "text/plain": [
              "<Figure size 432x288 with 1 Axes>"
            ],
            "image/png": "[encoded data removed]"
          },
          "metadata": {
            "needs_background": "light"
          }
        }
      ]
    },
    {
      "cell_type": "markdown",
      "source": [
        "#Plotting multiple histograms on one figure"
      ],
      "metadata": {
        "id": "o6LGhDa0NLyg"
      }
    },
    {
      "cell_type": "code",
      "source": [
        "plt.hist([array4,array5], bins = 10)"
      ],
      "metadata": {
        "colab": {
          "base_uri": "https://localhost:8080/",
          "height": 369
        },
        "id": "MSU0boEeNJPp",
        "outputId": "0beacf4c-1d21-4d34-a26a-b392151a28c9"
      },
      "execution_count": null,
      "outputs": [
        {
          "output_type": "execute_result",
          "data": {
            "text/plain": [
              "(array([[10., 29., 62., 52., 34., 13.,  0.,  0.,  0.,  0.],\n",
              "        [ 0.,  0.,  0.,  1., 14., 36., 72., 49., 24.,  4.]]),\n",
              " array([125.03797916, 133.14363551, 141.24929185, 149.3549482 ,\n",
              "        157.46060454, 165.56626089, 173.67191723, 181.77757358,\n",
              "        189.88322992, 197.98888627, 206.09454261]),\n",
              " <a list of 2 Lists of Patches objects>)"
            ]
          },
          "metadata": {},
          "execution_count": 28
        },
        {
          "output_type": "display_data",
          "data": {
            "text/plain": [
              "<Figure size 432x288 with 1 Axes>"
            ],
            "image/png": "[encoded data removed]"
          },
          "metadata": {
            "needs_background": "light"
          }
        }
      ]
    },
    {
      "cell_type": "markdown",
      "source": [
        "# Violinplot\n",
        "\n",
        "A violin plot allows us is kind of a combination of a boxplot and histogram. It shows the min, max, median and mean as well as the density of values."
      ],
      "metadata": {
        "id": "Fa8S0hXZUbHX"
      }
    },
    {
      "cell_type": "code",
      "source": [
        "box3 = np.random.normal(150, 5, 200)\n",
        "box4 = np.random.normal(130, 10, 200)\n",
        "box5 = np.random.normal(140, 15, 200)\n",
        "plt.violinplot([box3, box4, box5], [2,4,6], showmeans = True, showmedians = True)"
      ],
      "metadata": {
        "colab": {
          "base_uri": "https://localhost:8080/",
          "height": 404
        },
        "id": "yVyDntfgNzYh",
        "outputId": "66ab0235-3a8d-47c7-d681-0603d5148e4b"
      },
      "execution_count": null,
      "outputs": [
        {
          "output_type": "execute_result",
          "data": {
            "text/plain": [
              "{'bodies': [<matplotlib.collections.PolyCollection at 0x7fc282198fd0>,\n",
              "  <matplotlib.collections.PolyCollection at 0x7fc2821a5310>,\n",
              "  <matplotlib.collections.PolyCollection at 0x7fc2821a5650>],\n",
              " 'cmeans': <matplotlib.collections.LineCollection at 0x7fc282198e10>,\n",
              " 'cmaxes': <matplotlib.collections.LineCollection at 0x7fc2821a5750>,\n",
              " 'cmins': <matplotlib.collections.LineCollection at 0x7fc2821a5410>,\n",
              " 'cbars': <matplotlib.collections.LineCollection at 0x7fc2821a5bd0>,\n",
              " 'cmedians': <matplotlib.collections.LineCollection at 0x7fc2821a5fd0>}"
            ]
          },
          "metadata": {},
          "execution_count": 67
        },
        {
          "output_type": "display_data",
          "data": {
            "text/plain": [
              "<Figure size 432x288 with 1 Axes>"
            ],
            "image/png": "[encoded data removed]"
          },
          "metadata": {
            "needs_background": "light"
          }
        }
      ]
    }
  ]
}